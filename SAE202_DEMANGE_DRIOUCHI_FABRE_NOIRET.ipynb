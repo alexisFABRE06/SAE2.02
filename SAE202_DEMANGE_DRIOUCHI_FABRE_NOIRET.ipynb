{
 "cells": [
  {
   "cell_type": "markdown",
   "id": "31ae674b-d7ad-4b9d-8a31-86e1242d44a6",
   "metadata": {},
   "source": [
    "# Partie 1\n",
    "## Questions\n",
    "*1. Justifier pourquoi l’algorithme de la puissance itérée (vu en détails dans le TD de R2.09\n",
    "dédiée à la SAE) permet de calculer le score de chacune des pages.*\n",
    "\n",
    "L'algorithme de la puissance itérée permet de calculer le score de chacune des pages car cette fonction permet de calculer un vecteur propre de la matrice, et ce vecteur propre est utilisé afin de trouver le score de chaque page.\n",
    "\n",
    "*2. Implémenter cet algorithme pour calculer le score de chacune des pages du graphe\n",
    "précédent. On vérifiera (numériquement) que le vecteur de score obtenu est bien ap-\n",
    "proximativement solution de r = Qr.*\n",
    "\n",
    "Voici une implémentation Python de la fonction de puissance itérée:\n",
    "La fonction prend en entrée une Matrice `M` et un seuil d'approximation `e` et retourne un vecteur propre `newX` pour cette matrice, une valeur propre `np.linalg.norm(np.dot(M, X))` et le nombre d'itérations effectués `n`."
   ]
  },
  {
   "cell_type": "code",
   "execution_count": 14,
   "id": "9453dd49-29b9-42fe-a593-d6bf57e56481",
   "metadata": {},
   "outputs": [],
   "source": [
    "import numpy as np\n",
    "\n",
    "def puissance_iteree(M, e):\n",
    "    X = np.array([np.random.randint(1, 10) for _ in range(len(M))])\n",
    "    newX = X\n",
    "    n = 1\n",
    "    while 1:\n",
    "        newX = (np.dot(M, X)) / np.linalg.norm(np.dot(M, X))\n",
    "        if np.linalg.norm(newX - X) <= e: break\n",
    "        X = newX\n",
    "        n += 1\n",
    "    return newX, np.linalg.norm(np.dot(M, X)), n"
   ]
  },
  {
   "cell_type": "code",
   "execution_count": 15,
   "id": "58c1e619-44f4-4f61-8214-4719ccc8668a",
   "metadata": {},
   "outputs": [
    {
     "name": "stdout",
     "output_type": "stream",
     "text": [
      "Score Page 1: 0.3934717074638691\n",
      "Score Page 2: 0.14987435779382066\n",
      "Score Page 3: 0.20696187978054886\n",
      "Score Page 4: 0.22870666299060435\n",
      "Score Page 5: 0.2940768292321745\n",
      "Score Page 6: 0.4026725606445278\n",
      "Score Page 7: 0.15337882539549824\n",
      "Score Page 8: 0.2702234598649934\n",
      "Score Page 9: 0.15337882539549824\n",
      "Score Page 10: 0.3934598257278255\n",
      "Score Page 11: 0.14986951855679875\n",
      "Score Page 12: 0.20695506960132892\n",
      "Score Page 13: 0.22869905007881927\n",
      "Score Page 14: 0.29406691843832894\n",
      "\n",
      "Valeur propre: 2.625346488349423\n"
     ]
    }
   ],
   "source": [
    "N = 14\n",
    "\n",
    "matriceCPartie1 = np.array([\n",
    "    #1, 2, 3, 4, 5, 6, 7, 8, 9, 10,11,12,13,14\n",
    "    [0, 1, 1, 1, 1, 0, 1, 0, 0, 0, 0, 0, 0, 0], # 1\n",
    "    [1, 0, 0, 0, 0, 0, 0, 0, 0, 0, 0, 0, 0, 0], # 2\n",
    "    [1, 1, 0, 0, 0, 0, 0, 0, 0, 0, 0, 0, 0, 0], # 3\n",
    "    [1, 0, 1, 0, 0, 0, 0, 0, 0, 0, 0, 0, 0, 0], # 4\n",
    "    [1, 1, 0, 1, 0, 0, 0, 0, 0, 0, 0, 0, 0, 0], # 5\n",
    "    [1, 0, 0, 0, 0, 0, 0, 1, 0, 1, 0, 0, 0, 0], # 6\n",
    "    [0, 0, 0, 0, 0, 1, 0, 0, 0, 0, 0, 0, 0, 0], # 7\n",
    "    [0, 0, 0, 0, 0, 1, 1, 0, 1, 0, 0, 0, 0, 0], # 8\n",
    "    [0, 0, 0, 0, 0, 1, 0, 0, 0, 0, 0, 0, 0, 0], # 9\n",
    "    [0, 0, 0, 0, 0, 0, 0, 0, 1, 0, 1, 1, 1, 1], # 10\n",
    "    [0, 0, 0, 0, 0, 0, 0, 0, 0, 1, 0, 0, 0, 0], # 11\n",
    "    [0, 0, 0, 0, 0, 0, 0, 0, 0, 1, 1, 0, 0, 0], # 12\n",
    "    [0, 0, 0, 0, 0, 0, 0, 0, 0, 1, 0, 1, 0, 0], # 13\n",
    "    [0, 0, 0, 0, 0, 0, 0, 0, 0, 1, 1, 0, 1, 0], # 14\n",
    "    ])\n",
    "\n",
    "vecteurPropre, valeurPropre, iterations = puissance_iteree(matriceCPartie1, 10**(-6))\n",
    "\n",
    "for index, elem in enumerate(vecteurPropre):\n",
    "    print(f\"Score Page {index+1}: {elem}\")\n",
    "\n",
    "print(f\"\\nValeur propre: {valeurPropre}\")"
   ]
  },
  {
   "cell_type": "markdown",
   "id": "9fc0416d-75cc-4cef-935c-5c13ff0c9676",
   "metadata": {},
   "source": [
    "*3. Analyser la pertinence du résultat obtenu.*\n",
    "\n",
    "Le résultat signifie que la page qui sera tout en haut du moteur de recherche sera la page 6, puisqu'elle a le score le plus important. En revanche, les pages 2 et 11 seront les plus basses, puisqu'elles sont les moins importantes."
   ]
  },
  {
   "cell_type": "markdown",
   "id": "74abe39a-9449-4051-8f5e-826ce510712d",
   "metadata": {},
   "source": [
    "# Partie 2"
   ]
  },
  {
   "cell_type": "code",
   "execution_count": null,
   "id": "28a87ec5-4861-4a24-ba51-08c2312a3444",
   "metadata": {},
   "outputs": [],
   "source": [
    "matriceCPartie2 = np.array([\n",
    "    [0, 1, 1, 1, 1],\n",
    "    [0, 0, 0, 1, 1],\n",
    "    [0, 0, 0, 0, 0],\n",
    "    [0, 0, 1, 0, 0],\n",
    "    [0, 0, 0, 0, 0],\n",
    "    ])\n",
    "try:\n",
    "    vecteurPropre, valeurPropre, iterations = puissance_iteree(matriceCPartie2, 10**(-6))\n",
    "except Exception e:\n",
    "    print(e)\n",
    "    \n",
    "for index, elem in enumerate(vecteurPropre):\n",
    "    print(f\"Score Page {index+1}: {elem}\")\n"
   ]
  },
  {
   "cell_type": "markdown",
   "id": "40d51d1d-d5be-4536-a297-aebeef346c5a",
   "metadata": {},
   "source": [
    "On se rend compte que pour les pages ne se faisant *pointé par aucune autre page*, l'algorithme tente de *diviser par 0*. Pour régler cela, on instaure une **matrice de transition** avec un **facteur d'amortissement**."
   ]
  },
  {
   "cell_type": "code",
   "execution_count": null,
   "id": "ee5f979c-47b8-4192-8b83-e23c21aed629",
   "metadata": {},
   "outputs": [],
   "source": []
  }
 ],
 "metadata": {
  "kernelspec": {
   "display_name": "Python 3 (ipykernel)",
   "language": "python",
   "name": "python3"
  },
  "language_info": {
   "codemirror_mode": {
    "name": "ipython",
    "version": 3
   },
   "file_extension": ".py",
   "mimetype": "text/x-python",
   "name": "python",
   "nbconvert_exporter": "python",
   "pygments_lexer": "ipython3",
   "version": "3.11.0"
  }
 },
 "nbformat": 4,
 "nbformat_minor": 5
}
