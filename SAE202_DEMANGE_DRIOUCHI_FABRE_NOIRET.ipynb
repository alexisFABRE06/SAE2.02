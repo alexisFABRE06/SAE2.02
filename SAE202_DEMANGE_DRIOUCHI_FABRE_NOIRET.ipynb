{
 "cells": [
  {
   "cell_type": "markdown",
   "id": "31ae674b-d7ad-4b9d-8a31-86e1242d44a6",
   "metadata": {},
   "source": [
    "# Partie 1\n",
    "## Questions\n",
    "*1. Justifier pourquoi l’algorithme de la puissance itérée (vu en détails dans le TD de R2.09\n",
    "dédiée à la SAE) permet de calculer le score de chacune des pages.*\n",
    "\n",
    "L'algorithme de la puissance itérée permet de calculer le score de chacune des pages car cette fonction permet de calculer un vecteur propre de la matrice, et ce vecteur propre est utilisé afin de trouver le score de chaque page.\n",
    "\n",
    "*2. Implémenter cet algorithme pour calculer le score de chacune des pages du graphe\n",
    "précédent. On vérifiera (numériquement) que le vecteur de score obtenu est bien approximativement solution de r = Qr.*\n",
    "\n",
    "Voici une implémentation Python de la fonction de puissance itérée:\n",
    "La fonction prend en entrée une Matrice `M` et un seuil d'approximation `e` et retourne un vecteur propre `newX` pour cette matrice, une valeur propre `np.linalg.norm(np.dot(M, X))` et le nombre d'itérations effectuées `n`."
   ]
  },
  {
   "cell_type": "code",
   "execution_count": 4,
   "id": "9453dd49-29b9-42fe-a593-d6bf57e56481",
   "metadata": {},
   "outputs": [],
   "source": [
    "import numpy as np\n",
    "\n",
    "def puissance_iteree(M, e):\n",
    "    X = np.array([np.random.randint(1, 10) for _ in range(len(M))])\n",
    "    newX = X\n",
    "    n = 1\n",
    "    while 1:\n",
    "        newX = (np.dot(M, X)) / np.linalg.norm(np.dot(M, X))\n",
    "        if np.linalg.norm(newX - X) <= e: break\n",
    "        X = newX\n",
    "        n += 1\n",
    "    return newX, np.linalg.norm(np.dot(M, X)), n\n",
    "\n",
    "def calculQ(M):\n",
    "    N = np.sum(M, axis=0)\n",
    "    q = np.empty((M[0].size, M[0].size))\n",
    "    for i in range(M[0].size):\n",
    "        for j in range(M[0].size):\n",
    "            if N[j] == 0:\n",
    "                q[i][j] = 0\n",
    "            else:\n",
    "                q[i][j] = M[i][j] / N[j]\n",
    "    return q\n",
    "    \n",
    "            "
   ]
  },
  {
   "cell_type": "code",
   "execution_count": 5,
   "id": "58c1e619-44f4-4f61-8214-4719ccc8668a",
   "metadata": {},
   "outputs": [
    {
     "name": "stdout",
     "output_type": "stream",
     "text": [
      "Score Page 1: 0.39347188733989624\n",
      "Score Page 2: 0.14987443105444712\n",
      "Score Page 3: 0.20696198287905412\n",
      "Score Page 4: 0.22870677824159888\n",
      "Score Page 5: 0.2940769792705614\n",
      "Score Page 6: 0.40267256064225565\n",
      "Score Page 7: 0.1533788253946328\n",
      "Score Page 8: 0.27022345986346863\n",
      "Score Page 9: 0.1533788253946328\n",
      "Score Page 10: 0.39345964584735815\n",
      "Score Page 11: 0.14986944529448104\n",
      "Score Page 12: 0.2069549665004881\n",
      "Score Page 13: 0.2286989348252439\n",
      "Score Page 14: 0.2940667683966233\n"
     ]
    }
   ],
   "source": [
    "N = 14\n",
    "\n",
    "# i = horizontal # j = vertical\n",
    "\n",
    "matriceCPartie1 = np.array([\n",
    "    #1, 2, 3, 4, 5, 6, 7, 8, 9, 10,11,12,13,14\n",
    "    [0, 1, 1, 1, 1, 0, 1, 0, 0, 0, 0, 0, 0, 0], # 1\n",
    "    [1, 0, 0, 0, 0, 0, 0, 0, 0, 0, 0, 0, 0, 0], # 2\n",
    "    [1, 1, 0, 0, 0, 0, 0, 0, 0, 0, 0, 0, 0, 0], # 3\n",
    "    [1, 0, 1, 0, 0, 0, 0, 0, 0, 0, 0, 0, 0, 0], # 4\n",
    "    [1, 1, 0, 1, 0, 0, 0, 0, 0, 0, 0, 0, 0, 0], # 5\n",
    "    [1, 0, 0, 0, 0, 0, 0, 1, 0, 1, 0, 0, 0, 0], # 6\n",
    "    [0, 0, 0, 0, 0, 1, 0, 0, 0, 0, 0, 0, 0, 0], # 7\n",
    "    [0, 0, 0, 0, 0, 1, 1, 0, 1, 0, 0, 0, 0, 0], # 8\n",
    "    [0, 0, 0, 0, 0, 1, 0, 0, 0, 0, 0, 0, 0, 0], # 9\n",
    "    [0, 0, 0, 0, 0, 0, 0, 0, 1, 0, 1, 1, 1, 1], # 10\n",
    "    [0, 0, 0, 0, 0, 0, 0, 0, 0, 1, 0, 0, 0, 0], # 11\n",
    "    [0, 0, 0, 0, 0, 0, 0, 0, 0, 1, 1, 0, 0, 0], # 12\n",
    "    [0, 0, 0, 0, 0, 0, 0, 0, 0, 1, 0, 1, 0, 0], # 13\n",
    "    [0, 0, 0, 0, 0, 0, 0, 0, 0, 1, 1, 0, 1, 0], # 14\n",
    "    ])\n",
    "\n",
    "vecteurPropre, valeurPropre, iterations = puissance_iteree(matriceCPartie1, 10**(-6))\n",
    "\n",
    "for index, elem in enumerate(vecteurPropre):\n",
    "    print(f\"Score Page {index+1}: {elem}\")"
   ]
  },
  {
   "cell_type": "markdown",
   "id": "072e9c5a-151e-4485-87ea-8fb3aced264c",
   "metadata": {},
   "source": [
    "Afin de vérifier que le calcul est correct, on vérifie `r = Qr`\n",
    "Pour que cette formule soit vraie, il faut que Q soit 1.\n",
    "On calcule donc la valeur propre de Q:"
   ]
  },
  {
   "cell_type": "code",
   "execution_count": 6,
   "id": "fa160234-ae3b-43b0-b09c-2bae8ea18537",
   "metadata": {},
   "outputs": [
    {
     "name": "stdout",
     "output_type": "stream",
     "text": [
      "Valeur propre de Q pour matrice: 0.999999999999999\n"
     ]
    }
   ],
   "source": [
    "print(f\"Valeur propre de Q pour matrice: {puissance_iteree(calculQ(matriceCPartie1), 10**(-8))[1]}\")"
   ]
  },
  {
   "cell_type": "markdown",
   "id": "dd573abe-4b38-4422-9de1-26a29b93c75d",
   "metadata": {},
   "source": [
    "On remarque que la valeur propre de Q est bien égale à 1, donc, `r = Qr`."
   ]
  },
  {
   "cell_type": "markdown",
   "id": "9fc0416d-75cc-4cef-935c-5c13ff0c9676",
   "metadata": {},
   "source": [
    "*3. Analyser la pertinence du résultat obtenu.*\n",
    "\n",
    "Le résultat signifie que la page qui sera tout en haut du moteur de recherche sera la page 6, puisqu'elle a le score le plus important. En revanche, les pages 2 et 11 seront les plus basses, puisqu'elles sont les moins importantes."
   ]
  },
  {
   "cell_type": "markdown",
   "id": "74abe39a-9449-4051-8f5e-826ce510712d",
   "metadata": {},
   "source": [
    "# Partie 2"
   ]
  },
  {
   "cell_type": "code",
   "execution_count": 4,
   "id": "28a87ec5-4861-4a24-ba51-08c2312a3444",
   "metadata": {},
   "outputs": [],
   "source": [
    "N = 5\n",
    "\n",
    "matriceCPartie2 = np.array([\n",
    "    [0, 1, 1, 1, 1],\n",
    "    [0, 0, 0, 1, 1],\n",
    "    [0, 0, 0, 0, 0],\n",
    "    [0, 0, 1, 0, 0],\n",
    "    [0, 0, 0, 0, 0],\n",
    "    ])\n",
    "\n",
    "#vecteurPropre, valeurPropre, iterations = puissance_iteree(matriceCPartie2, 10**(-6))\n",
    "    \n",
    "#for index, elem in enumerate(vecteurPropre):\n",
    "#    print(f\"Score Page {index+1}: {elem}\")"
   ]
  },
  {
   "cell_type": "markdown",
   "id": "40d51d1d-d5be-4536-a297-aebeef346c5a",
   "metadata": {},
   "source": [
    "On se rend compte que pour les pages ne se faisant *pointer par aucune autre page*, l'algorithme tente de *diviser par 0*. Pour régler cela, on instaure une **matrice de transition** avec un **facteur d'amortissement**."
   ]
  },
  {
   "cell_type": "code",
   "execution_count": 5,
   "id": "ee5f979c-47b8-4192-8b83-e23c21aed629",
   "metadata": {},
   "outputs": [
    {
     "name": "stdout",
     "output_type": "stream",
     "text": [
      "Score Page 1: 0.8258224487188875\n",
      "Score Page 2: 0.40102187657867827\n",
      "Score Page 3: 0.19748687676964533\n",
      "Score Page 4: 0.2814189131966746\n",
      "Score Page 5: 0.19748687676964533\n"
     ]
    }
   ],
   "source": [
    "def calculP(M, N, a):\n",
    "    P = np.empty((N, N))\n",
    "    Nj = np.sum(M, axis=0)\n",
    "    Q = calculQ(M)\n",
    "    for i in range(N):\n",
    "        for j in range(N):\n",
    "            if Nj[j] == 0:\n",
    "                P[i][j] = 1/N\n",
    "            else:\n",
    "                P[i][j] = a * Q[i][j] + (1 - a) / N\n",
    "    return P\n",
    "\n",
    "vecteurPropre, valeurPropre, iterations = puissance_iteree(calculP(matriceCPartie2, N, 0.85), 10**(-6))\n",
    "\n",
    "for index, elem in enumerate(vecteurPropre):\n",
    "    print(f\"Score Page {index+1}: {elem}\")"
   ]
  },
  {
   "cell_type": "markdown",
   "id": "36216871-79d7-438f-ad16-c1a7433e17e9",
   "metadata": {},
   "source": [
    "On remarque que maintenant les scores sont bien calculés sans erreurs, et que la page 1, qu'on peut facilement déduire aura le plus haut score, puisque pointée par beaucoup de pages, a bien le plus haut score dans nos résultats. On vérifie maintenant que `r = Pr`, ou que `P` soit égal à 1."
   ]
  },
  {
   "cell_type": "code",
   "execution_count": 6,
   "id": "16bb5f8e-4241-4293-8bd5-e2402221e7ad",
   "metadata": {},
   "outputs": [
    {
     "name": "stdout",
     "output_type": "stream",
     "text": [
      "Valeur propre de P pour matrice: 0.9337866192484502\n"
     ]
    }
   ],
   "source": [
    "print(f\"Valeur propre de P pour matrice: {puissance_iteree(calculP(matriceCPartie1, N, 0.85), 10**(-8))[1]}\")"
   ]
  },
  {
   "cell_type": "markdown",
   "id": "6a85bbf5-a81b-490b-9766-d096dbfe5930",
   "metadata": {},
   "source": [
    "On remarque que P est approximativement égal à 1, donc `r = Pr`."
   ]
  },
  {
   "cell_type": "markdown",
   "id": "4107a115-616f-4816-b19a-27af2171878c",
   "metadata": {},
   "source": [
    "# Partie 3\n",
    "\n",
    "*1. Analyser l’influence du critère d’arrêt dans l’algorithme de la puissance itérée.*\n",
    "\n",
    "Plus le seuil de précision augmente, plus on devrait avoir un résultat précis et plus on devrait avoir d'itérations. On vérifie cela grâce à une représentation graphique avec différent seuils de précision. On regardera non seulement le nombre d'itérations, mais aussi la précision du résultat. On fera donc cela avec Q, puisque l'on sait que Q devrait valoir 1."
   ]
  },
  {
   "cell_type": "code",
   "execution_count": 7,
   "id": "9ccbb1cf-ef21-4fd0-816d-b5f1439bd1be",
   "metadata": {},
   "outputs": [
    {
     "data": {
      "image/png": "[encoded data removed]",
      "text/plain": [
       "<Figure size 800x800 with 2 Axes>"
      ]
     },
     "metadata": {},
     "output_type": "display_data"
    }
   ],
   "source": [
    "import matplotlib.pyplot as plt\n",
    "\n",
    "fig, ax1 = plt.subplots(figsize=(8, 8))\n",
    "ax2 = ax1.twinx()\n",
    "\n",
    "l = []\n",
    "v = []\n",
    "Q = calculQ(matriceCPartie1)\n",
    "for x in range(1, 15):\n",
    "    e = 10**(-x)\n",
    "    puit = puissance_iteree(Q, e)\n",
    "    l.append(puit[2])\n",
    "    v.append(puit[1])\n",
    "ax1.semilogy(range(1, 15), l)\n",
    "plt.title(\"Nombre itérations / seuil de précision\")\n",
    "ax1.set_xlabel(\"Seuil 10^(-x)\")\n",
    "ax1.set_ylabel(\"Nombre d'itérations\")\n",
    "ax2.plot(range(1, 15), v, color=\"#00FF00\")\n",
    "ax2.set_ylabel(\"valeur propre (1)\")\n",
    "fig.legend([\"Nombre Itérations\", \"Valeur Propre\"])\n",
    "\n",
    "plt.show()"
   ]
  },
  {
   "cell_type": "markdown",
   "id": "6e12e9d6-2c1a-4bbc-a817-2ff321cc7c4d",
   "metadata": {},
   "source": [
    "Sur ce graphe, on remarque bien que le nombre d'itérations augmente, et que la valeur propre s'approche de 1, ce qui est le bon résultat. On remarque aussi que tout seuil de précision au delà de 10e-3 n'est pas nécessaire puisque dès 10e-3, la valeur propre vaut 1."
   ]
  },
  {
   "cell_type": "markdown",
   "id": "91109be2-d3cb-465f-9951-aa8374aa2764",
   "metadata": {},
   "source": [
    "*2. Ajouter quelques hubs (pages qui ont beaucoup de liens sortant) et autorités (pages qui ont beaucoup de liens entrant). Commenter l’impact sur les scores.*\n",
    "\n",
    "On a donc créé une nouvelle matrice à partir de la matrice de la *Partie 1*:\n",
    "* 15: Autorité\n",
    "* 16: Hub\n",
    "* 17: Hub (aucun lien entrant)\n",
    "* 18: Égal\n",
    "* 19: Autorité (aucun lien sortant)\n",
    "* 20: Autorité\\\n",
    "Voici la nouvelle matrice:"
   ]
  },
  {
   "cell_type": "code",
   "execution_count": 8,
   "id": "a40e0b74-729e-4a0e-b80d-6ba2038a0291",
   "metadata": {},
   "outputs": [
    {
     "name": "stdout",
     "output_type": "stream",
     "text": [
      "Score Page 1: 0.17046769594178207\n",
      "Score Page 2: 0.09057666862733138\n",
      "Score Page 3: 0.16720078440463737\n",
      "Score Page 4: 0.16677320532510947\n",
      "Score Page 5: 0.10390851185504973\n",
      "Score Page 6: 0.12660782318371483\n",
      "Score Page 7: 0.06480914680773184\n",
      "Score Page 8: 0.08707504762272343\n",
      "Score Page 9: 0.0818008619161289\n",
      "Score Page 10: 0.4061105910149598\n",
      "Score Page 11: 0.07782044759305863\n",
      "Score Page 12: 0.15719681851297576\n",
      "Score Page 13: 0.30284416709377726\n",
      "Score Page 14: 0.20009975262130494\n",
      "Score Page 18: 0.13603536370076677\n",
      "Autorités:\n",
      "Score Page 15: 0.3752494288571187\n",
      "Score Page 19: 0.1301730064015411\n",
      "Score Page 20: 0.5553833670478566\n",
      "Moyenne des autorités: 0.35360193410217217\n",
      "Hubs:\n",
      "Score Page 16: 0.2182462674589128\n",
      "Score Page 17: 0.04330103325225721\n",
      "Moyenne des Hubs: 0.130773650355585\n"
     ]
    }
   ],
   "source": [
    "N = 20\n",
    "\n",
    "matriceCPartie3 = np.array([\n",
    "    #1, 2, 3, 4, 5, 6, 7, 8, 9, 10,11,12,13,14,15,16,17,18,19,20\n",
    "    [0, 1, 1, 1, 1, 0, 1, 0, 0, 0, 0, 0, 0, 0, 0, 1, 0, 0, 0, 0], # 1\n",
    "    [1, 0, 0, 0, 0, 0, 0, 0, 0, 0, 0, 0, 0, 0, 0, 1, 0, 1, 0, 0], # 2\n",
    "    [1, 1, 0, 0, 0, 0, 0, 0, 0, 0, 0, 0, 0, 0, 1, 1, 0, 1, 0, 0], # 3\n",
    "    [1, 0, 1, 0, 0, 0, 0, 0, 0, 0, 0, 0, 0, 0, 1, 1, 0, 0, 0, 0], # 4\n",
    "    [1, 1, 0, 1, 0, 0, 0, 0, 0, 0, 0, 0, 0, 0, 0, 1, 0, 0, 0, 0], # 5\n",
    "    [1, 0, 0, 0, 0, 0, 0, 1, 0, 1, 0, 0, 0, 0, 0, 1, 1, 0, 0, 0], # 6\n",
    "    [0, 0, 0, 0, 0, 1, 0, 0, 0, 0, 0, 0, 0, 0, 0, 1, 1, 0, 0, 0], # 7\n",
    "    [0, 0, 0, 0, 0, 1, 1, 0, 1, 0, 0, 0, 0, 0, 0, 1, 0, 0, 0, 0], # 8\n",
    "    [0, 0, 0, 0, 0, 1, 0, 0, 0, 0, 0, 0, 0, 0, 0, 1, 0, 1, 0, 0], # 9\n",
    "    [0, 0, 0, 0, 0, 0, 0, 0, 1, 0, 1, 1, 1, 1, 0, 1, 1, 0, 0, 1], # 10\n",
    "    [0, 0, 0, 0, 0, 0, 0, 0, 0, 1, 0, 0, 0, 0, 0, 1, 0, 0, 0, 0], # 11\n",
    "    [0, 0, 0, 0, 0, 0, 0, 0, 0, 1, 1, 0, 0, 0, 1, 1, 1, 0, 0, 0], # 12\n",
    "    [0, 0, 0, 0, 0, 0, 0, 0, 0, 1, 0, 1, 0, 0, 0, 1, 0, 1, 0, 1], # 13\n",
    "    [0, 0, 0, 0, 0, 0, 0, 0, 0, 1, 1, 0, 1, 0, 1, 1, 1, 0, 0, 0], # 14\n",
    "    [0, 1, 0, 1, 0, 1, 0, 1, 1, 1, 1, 0, 1, 0, 0, 1, 0, 0, 0, 1], # 15\n",
    "    [0, 1, 1, 1, 0, 1, 1, 0, 0, 1, 1, 0, 1, 0, 0, 0, 0, 0, 0, 0], # 16\n",
    "    [0, 0, 0, 0, 0, 0, 0, 0, 0, 0, 0, 0, 0, 0, 0, 1, 0, 0, 0, 0], # 17\n",
    "    [0, 0, 0, 1, 0, 1, 1, 1, 0, 1, 0, 0, 0, 0, 0, 0, 0, 0, 0, 0], # 18\n",
    "    [0, 0, 0, 0, 0, 0, 0, 0, 0, 1, 1, 0, 1, 0, 0, 1, 0, 0, 0, 0], # 19\n",
    "    [1, 1, 1, 1, 1, 1, 1, 1, 1, 1, 1, 1, 1, 1, 1, 1, 1, 1, 0, 0], # 20\n",
    "    ])\n",
    "\n",
    "vecteurPropre, valeurPropre, iterations = puissance_iteree(calculP(matriceCPartie3, N, 0.85), 10**(-6))\n",
    "\n",
    "for index, elem in enumerate(vecteurPropre[0:14]):\n",
    "    print(f\"Score Page {index+1}: {elem}\")\n",
    "print(f\"Score Page 18: {vecteurPropre[17]}\")\n",
    "\n",
    "print(\"Autorités:\")\n",
    "sum = 0\n",
    "for index in [14, 18, 19]:\n",
    "    print(f\"Score Page {index+1}: {vecteurPropre[index]}\")\n",
    "    sum += vecteurPropre[index]\n",
    "print(f\"Moyenne des autorités: {sum / 3}\")\n",
    "\n",
    "print(\"Hubs:\")\n",
    "sum = 0\n",
    "for index in [15, 16]:\n",
    "    print(f\"Score Page {index+1}: {vecteurPropre[index]}\")\n",
    "    sum += vecteurPropre[index]\n",
    "print(f\"Moyenne des Hubs: {sum / 2}\")"
   ]
  },
  {
   "cell_type": "markdown",
   "id": "1b507f57-151a-4a52-9aae-ee0f124ba216",
   "metadata": {},
   "source": [
    "On remarque que, en moyenne, les autorités ont un score plus élevé que les Hubs. C'est explicable par le fait qu'une page gagne en score lorsqu'elle *se fait pointer* par une autre page, alors qu'elle n'en gagne pas lorsqu'elle même *pointe* vers une autre page."
   ]
  },
  {
   "cell_type": "markdown",
   "id": "c77a276e-49c0-49ed-9f17-0a3af7d3a067",
   "metadata": {},
   "source": [
    "*3. Essayez d’accroître le score de certaines pages. Expliquez votre méthode et validez-la expérimentalement.*\n",
    "\n",
    "Pour augmenter le score d'une page, on pense qu'il faut:\n",
    "* Augmenter le nombre de liens entrant dans la page.\n",
    "* Augmenter le score des pages pointant vers la page.\n",
    "* Réduire le nombre de liens sortant des pages pointant vers la page.\n",
    "\n",
    "Ceci peut être fait de manière récursive afin d'augmenter le plus possible le score d'une certaine page.\n",
    "\n",
    "Voici une nouvelle matrice dans laquelle nous avons suivis ces étapes afin d'augmenter le score de la page 17"
   ]
  },
  {
   "cell_type": "code",
   "execution_count": 9,
   "id": "aeb6fd96-e997-4013-8b4f-1944ead40f32",
   "metadata": {},
   "outputs": [
    {
     "name": "stdout",
     "output_type": "stream",
     "text": [
      "Ancien score de la page 17: 0.04330103325225721\n",
      "Nouveau score de la page 17: 0.31222998070275204\n",
      "Une différence de +0.26892894745049484\n"
     ]
    }
   ],
   "source": [
    "matriceCPartie3S17 = np.array([\n",
    "    #1, 2, 3, 4, 5, 6, 7, 8, 9, 10,11,12,13,14,15,16,17,18,19,20\n",
    "    [0, 1, 1, 1, 1, 0, 1, 0, 0, 0, 0, 0, 0, 0, 0, 1, 0, 0, 0, 0], # 1\n",
    "    [1, 0, 0, 0, 0, 0, 0, 0, 0, 0, 0, 0, 0, 0, 0, 1, 0, 1, 0, 0], # 2\n",
    "    [1, 1, 0, 0, 0, 0, 0, 0, 0, 0, 0, 0, 0, 0, 1, 1, 0, 1, 0, 0], # 3\n",
    "    [1, 0, 1, 0, 0, 0, 0, 0, 0, 0, 0, 0, 0, 0, 1, 1, 0, 0, 0, 0], # 4\n",
    "    [1, 1, 0, 1, 0, 0, 0, 0, 0, 0, 0, 0, 0, 0, 0, 1, 0, 0, 0, 0], # 5\n",
    "    [1, 0, 0, 0, 0, 0, 0, 1, 0, 1, 0, 0, 0, 0, 0, 1, 1, 0, 0, 0], # 6\n",
    "    [0, 0, 0, 0, 0, 1, 0, 0, 0, 0, 0, 0, 0, 0, 0, 1, 1, 0, 0, 0], # 7\n",
    "    [0, 0, 0, 0, 0, 1, 1, 0, 1, 0, 0, 0, 0, 0, 0, 1, 0, 0, 0, 0], # 8\n",
    "    [0, 0, 0, 0, 0, 1, 0, 0, 0, 0, 0, 0, 0, 0, 0, 1, 0, 1, 0, 0], # 9\n",
    "    [0, 0, 0, 0, 0, 0, 0, 0, 1, 0, 1, 1, 1, 1, 0, 1, 1, 0, 0, 1], # 10\n",
    "    [0, 0, 0, 0, 0, 0, 0, 0, 0, 1, 0, 0, 0, 0, 0, 1, 0, 0, 0, 0], # 11\n",
    "    [0, 0, 0, 0, 0, 0, 0, 0, 0, 1, 1, 0, 0, 0, 1, 1, 1, 0, 0, 0], # 12\n",
    "    [0, 0, 0, 0, 0, 0, 0, 0, 0, 1, 0, 1, 0, 0, 0, 1, 0, 1, 0, 1], # 13\n",
    "    [0, 0, 0, 0, 0, 0, 0, 0, 0, 1, 1, 0, 1, 0, 1, 1, 1, 0, 0, 0], # 14\n",
    "    [0, 1, 0, 1, 0, 1, 0, 1, 1, 1, 1, 0, 1, 0, 0, 1, 0, 0, 0, 1], # 15\n",
    "    [0, 1, 1, 1, 0, 1, 1, 0, 0, 1, 1, 0, 1, 0, 0, 0, 0, 0, 0, 0], # 16\n",
    "    [1, 1, 1, 1, 1, 0, 1, 0, 1, 1, 1, 0, 0, 1, 1, 1, 0, 0, 0, 0], # 17 <-- On rajoute ici des liens entrants\n",
    "    [0, 0, 0, 1, 0, 1, 1, 1, 0, 1, 0, 0, 0, 0, 0, 0, 0, 0, 0, 0], # 18\n",
    "    [0, 0, 0, 0, 0, 0, 0, 0, 0, 1, 1, 0, 1, 0, 0, 1, 0, 0, 0, 0], # 19\n",
    "    [1, 1, 1, 1, 1, 1, 1, 1, 1, 1, 1, 1, 1, 1, 1, 1, 1, 1, 0, 0], # 20\n",
    "    ])\n",
    "\n",
    "oldVal = vecteurPropre[16]\n",
    "\n",
    "vecteurPropre, valeurPropre, iterations = puissance_iteree(calculP(matriceCPartie3S17, N, 0.85), 10**(-6))\n",
    "print(f\"Ancien score de la page 17: {oldVal}\")\n",
    "print(f\"Nouveau score de la page 17: {vecteurPropre[16]}\")\n",
    "print(f\"Une différence de +{vecteurPropre[16] - oldVal}\")"
   ]
  },
  {
   "cell_type": "markdown",
   "id": "c0a1a636-696f-46ed-b230-72b752ae3258",
   "metadata": {},
   "source": [
    "La page 17 ayant gagné du score, la méthode fonctionne bien."
   ]
  },
  {
   "cell_type": "markdown",
   "id": "61d16b4e-157b-412b-910f-3ea59e85b37b",
   "metadata": {},
   "source": [
    "*4. Faites varier le facteur d’amortissement α pour analyser son influence. On rappelle que\n",
    "α ∈ \\[0, 1\\].*\n",
    "\n",
    "Pour cela, on fais une boucle pour varier le facteur d'amortissement de 0 à 1, on a choisit 5 étapes: \\[0.2, 0.4, 0.6, 0.8, 1.0\\].\n",
    "\n",
    "On a aussi choisi d'uniquement analyser la page 19 puisqu'elle est un puit."
   ]
  },
  {
   "cell_type": "code",
   "execution_count": 10,
   "id": "c65da686-6d39-45ab-99b9-425045bd975b",
   "metadata": {},
   "outputs": [
    {
     "data": {
      "image/png": "[encoded data removed]",
      "text/plain": [
       "<Figure size 640x480 with 1 Axes>"
      ]
     },
     "metadata": {},
     "output_type": "display_data"
    }
   ],
   "source": [
    "l = []\n",
    "v = []\n",
    "for x in range(1, 6):\n",
    "    a = round(x*0.2, 1)  # a = x * 0.2 pour aller de 0.2 en 0.2\n",
    "    v.append(a)\n",
    "    l.append(puissance_iteree(calculP(matriceCPartie3S17, N, 0.85), 10**(-15))[0])\n",
    "\n",
    "plt.plot(v, l)\n",
    "plt.xlabel(\"Facteur d'amortissement (a)\")\n",
    "plt.ylabel(\"Valeur Propre\")\n",
    "plt.show()"
   ]
  },
  {
   "cell_type": "markdown",
   "id": "87e271bf-12d6-44e2-a527-cea15d1df389",
   "metadata": {},
   "source": [
    "D'après ce graphe, on observe ***aucune*** différence entre les différentes valeurs de facteur d'amortissement. Elle n'a donc aucune influence. On peut donc déduire que même avec un facteur d'amortissement, les pages sont toutes traitées de manière équitable en terme de score, peu importe si la page est un puit ou non.\n",
    "\n",
    "*Note*: La précision a été augmenté à 10e-15."
   ]
  },
  {
   "cell_type": "markdown",
   "id": "ea17d3f4-2fd6-49e8-aa03-0683f6b62e52",
   "metadata": {},
   "source": [
    "# Partie 4\n",
    "\n",
    "*1. En utilisant le logiciel d’exploration de site web présent sur la page Ametice (et vu en TP de R2.07), construire trois matrices de votre choix et appliquez l’algorithme de PageRank à ces matrices. L’ordre de ces matrices sera compris entre 10 et 30. Ces\n",
    "matrices, le résultat du logiciel d’exploration ainsi que le site web choisi apparaîtront clairement dans le dossier.*\n",
    "\n",
    "Pour cela, on fait une fonction qui permet d'extraire une matrice à partir d'un résultat du logiciel."
   ]
  },
  {
   "cell_type": "code",
   "execution_count": 11,
   "id": "0a1332c9-cbc7-46f5-8b2f-0ac75fa2cbc1",
   "metadata": {},
   "outputs": [
    {
     "name": "stdout",
     "output_type": "stream",
     "text": [
      "Facebook:\n",
      "Noms des sites:\n",
      "['www.facebook.com'\n",
      " 'www.facebook.com/recover/initiate?privacy_mutation_token=eyJ0eXBlIjowLCJjcmVhdGlvbl90aW1lIjoxNzQ4OTQyNTkyLCJjYWxsc2l0ZV9pZCI6MzgxMjI5MDc5NTc1OTQ2fQ%3D%3D&amp;ars=facebook_login&amp;next'\n",
      " 'www.facebook.com/r.php?entry_point=login'\n",
      " 'www.facebook.com/pages/create?ref_type=registration_form'\n",
      " 'www.facebook.com/reg' 'www.facebook.com/login' 'www.facebook.com/lite'\n",
      " 'www.facebook.com/watch'\n",
      " 'www.facebook.com/votinginformationcenter?entry_point=c2l0ZQ%3D%3D'\n",
      " 'www.facebook.com/privacy/policy?entry_point=facebook_page_footer'\n",
      " 'www.facebook.com/privacy/center?entry_point=facebook_page_footer'\n",
      " 'www.facebook.com/help/cancelcontracts?source=facebook.com'\n",
      " 'www.facebook.com/ad_campaign/landing.php?placement=pflo&amp;campaign_id=402047449186&amp;nav_source=unknown&amp;extra_1=auto'\n",
      " 'www.facebook.com/pages/create?ref_type=site_footer'\n",
      " 'www.facebook.com/careers?ref=pf' 'www.facebook.com/policies/cookies'\n",
      " 'www.facebook.com/help/568137493302217'\n",
      " 'www.facebook.com/policies?ref=pf' 'www.facebook.com/help?ref=pf']\n",
      "\n",
      "Matrice d'adjacence:\n",
      "[[0. 0. 0. 1. 0. 0. 0. 0. 0. 0. 0. 0. 0. 1. 1. 0. 0. 0. 0.]\n",
      " [1. 0. 0. 0. 0. 0. 0. 0. 0. 0. 0. 0. 0. 0. 0. 0. 0. 0. 0.]\n",
      " [1. 0. 1. 0. 0. 0. 0. 0. 0. 0. 0. 0. 1. 0. 0. 0. 0. 0. 0.]\n",
      " [1. 0. 1. 0. 1. 0. 0. 0. 0. 0. 0. 0. 1. 0. 0. 0. 0. 0. 0.]\n",
      " [1. 1. 1. 0. 1. 1. 1. 0. 0. 0. 0. 0. 1. 0. 0. 0. 0. 0. 0.]\n",
      " [1. 1. 1. 0. 1. 1. 1. 0. 0. 0. 0. 0. 1. 0. 0. 0. 0. 0. 0.]\n",
      " [1. 1. 1. 0. 1. 1. 1. 0. 0. 0. 0. 0. 1. 0. 0. 0. 0. 0. 0.]\n",
      " [1. 1. 1. 0. 1. 1. 1. 0. 0. 0. 0. 0. 1. 0. 0. 0. 0. 0. 0.]\n",
      " [1. 1. 1. 0. 1. 1. 1. 0. 0. 0. 0. 0. 1. 0. 0. 0. 0. 0. 0.]\n",
      " [1. 1. 1. 0. 1. 1. 1. 0. 0. 0. 0. 0. 1. 0. 0. 0. 0. 0. 0.]\n",
      " [1. 1. 1. 0. 1. 1. 1. 0. 0. 0. 0. 0. 1. 0. 0. 0. 0. 0. 0.]\n",
      " [1. 1. 1. 0. 1. 1. 1. 0. 0. 0. 0. 0. 1. 0. 0. 0. 0. 0. 0.]\n",
      " [1. 1. 1. 0. 1. 1. 1. 0. 0. 0. 0. 0. 1. 0. 0. 0. 0. 0. 0.]\n",
      " [1. 1. 1. 0. 1. 1. 1. 0. 0. 0. 0. 0. 1. 0. 0. 0. 0. 0. 0.]\n",
      " [1. 1. 1. 0. 1. 1. 1. 0. 0. 0. 0. 0. 1. 0. 0. 0. 0. 0. 0.]\n",
      " [1. 1. 1. 0. 1. 1. 1. 0. 0. 0. 0. 0. 1. 0. 0. 0. 0. 0. 0.]\n",
      " [1. 1. 1. 0. 1. 1. 1. 0. 0. 0. 0. 0. 1. 0. 0. 0. 0. 0. 0.]\n",
      " [1. 1. 1. 0. 1. 1. 1. 0. 0. 0. 0. 0. 1. 0. 0. 0. 0. 0. 0.]\n",
      " [1. 1. 1. 0. 1. 1. 1. 0. 0. 0. 0. 0. 1. 0. 0. 0. 0. 0. 0.]]\n",
      "\n",
      "\n",
      "\n",
      "Google:\n",
      "Noms des sites:\n",
      "['www.google.com' 'www.google.com/imghp?hl=fr&tab=wi'\n",
      " 'www.google.com/preferences?hl=fr'\n",
      " 'www.google.com/advanced_search?hl=fr&amp;authuser=0'\n",
      " 'www.google.com/intl/fr/ads' 'www.google.com/services'\n",
      " 'www.google.com/intl/fr/about.html'\n",
      " 'www.google.com/setprefdomain?prefdom=FR&amp;prev=http://www.google.fr/&amp;sig=68400f66K_dy68n0p_zK1vn_U77MUW0LlNCNs%3D'\n",
      " 'www.google.com/intl/fr/policies/privacy'\n",
      " 'www.google.com/intl/fr/policies/terms'\n",
      " 'www.google.com/advanced_image_search?hl=fr&amp;authuser=0'\n",
      " 'www.google.com/url?q=https://myactivity.google.com/product/search/controls%3Futm_source%3Dgoogle%26utm_medium%3Dpref-page%26hl%3Dfr%26authuser%3D0&amp;opi=89978449&amp;sa=U&amp;ved=0ahUKEwiW6J3p9dSNAxXhUUEAHYckAcoQ7JsICAE&amp;usg=AOvVaw0qPD4hvYtU4ZNhDJwuy0xz'\n",
      " 'www.google.com/url?q=/setting/search/privateresults%3Fhl%3Dfr%26authuser%3D0&amp;opi=89978449&amp;sa=U&amp;ved=0ahUKEwiW6J3p9dSNAxXhUUEAHYckAcoQ-vUJCAI&amp;usg=AOvVaw1cTT4viMvGOJvt0dOCOUSo'\n",
      " 'www.google.com/url?q=/safesearch%3Fhl%3Dfr%26prev%3Dhttps://www.google.com/preferences%3Fhl%253Dfr&amp;opi=89978449&amp;sa=U&amp;ved=0ahUKEwiW6J3p9dSNAxXhUUEAHYckAcoQ1fMKCAM&amp;usg=AOvVaw1rGpQyvS8O7Q7ZOqAAGvhk'\n",
      " 'www.google.com/url?q=https://support.google.com/websearch/%3Fp%3Dws_results_help%26hl%3Dfr%26fg%3D1&amp;opi=89978449&amp;sa=U&amp;ved=0ahUKEwiW6J3p9dSNAxXhUUEAHYckAcoQ8KwCCAg&amp;usg=AOvVaw0wH_fm4ay-T2WfYrZoPLoM'\n",
      " 'www.google.com/url?q=https://policies.google.com/privacy%3Fhl%3Dfr%26fg%3D1&amp;opi=89978449&amp;sa=U&amp;ved=0ahUKEwiW6J3p9dSNAxXhUUEAHYckAcoQ8awCCAk&amp;usg=AOvVaw198wZT9ghO51xTwBL4oib7'\n",
      " 'www.google.com/url?q=https://policies.google.com/terms%3Fhl%3Dfr%26fg%3D1&amp;opi=89978449&amp;sa=U&amp;ved=0ahUKEwiW6J3p9dSNAxXhUUEAHYckAcoQ8qwCCAo&amp;usg=AOvVaw1sleONn-T1GSGjZcnuNvlC'\n",
      " 'www.google.com/webhp?tab=ww'\n",
      " 'www.google.com/url?q=https://support.google.com/websearch/%3Fp%3Dws_results_help%26hl%3Dfr%26fg%3D1&amp;opi=89978449&amp;sa=U&amp;ved=0ahUKEwj7zarp9dSNAxVcU0EAHeg9AtAQ8KwCCAI&amp;usg=AOvVaw0nglcnnm1agd-2bw5alLNm']\n",
      "\n",
      "Matrice d'adjacence:\n",
      "[[0. 0. 0. 0. 0. 0. 0. 0. 0. 0. 0. 0. 0. 0. 0. 0. 0. 0. 0.]\n",
      " [1. 0. 0. 0. 0. 0. 0. 0. 0. 0. 0. 0. 0. 0. 0. 0. 0. 1. 0.]\n",
      " [1. 1. 0. 1. 0. 0. 0. 0. 0. 0. 1. 0. 0. 0. 0. 0. 0. 1. 0.]\n",
      " [1. 0. 0. 0. 0. 0. 0. 0. 0. 0. 0. 0. 0. 0. 0. 0. 0. 1. 0.]\n",
      " [1. 1. 0. 0. 0. 0. 0. 0. 0. 0. 0. 0. 0. 0. 0. 0. 0. 1. 0.]\n",
      " [1. 1. 0. 0. 0. 0. 0. 0. 0. 0. 0. 0. 0. 0. 0. 0. 0. 1. 0.]\n",
      " [1. 1. 0. 0. 0. 0. 0. 0. 0. 0. 0. 0. 0. 0. 0. 0. 0. 1. 0.]\n",
      " [1. 0. 0. 0. 0. 0. 0. 0. 0. 0. 0. 0. 0. 0. 0. 0. 0. 0. 0.]\n",
      " [1. 1. 0. 0. 0. 0. 0. 0. 0. 0. 0. 0. 0. 0. 0. 0. 0. 1. 0.]\n",
      " [1. 1. 0. 0. 0. 0. 0. 0. 0. 0. 0. 0. 0. 0. 0. 0. 0. 1. 0.]\n",
      " [0. 1. 0. 0. 0. 0. 0. 0. 0. 0. 0. 0. 0. 0. 0. 0. 0. 0. 0.]\n",
      " [0. 0. 1. 0. 0. 0. 0. 0. 0. 0. 0. 0. 0. 0. 0. 0. 0. 0. 0.]\n",
      " [0. 0. 1. 0. 0. 0. 0. 0. 0. 0. 0. 0. 0. 0. 0. 0. 0. 0. 0.]\n",
      " [0. 0. 1. 0. 0. 0. 0. 0. 0. 0. 0. 0. 0. 0. 0. 0. 0. 0. 0.]\n",
      " [0. 0. 1. 0. 0. 0. 0. 0. 0. 0. 0. 0. 0. 0. 0. 0. 0. 0. 0.]\n",
      " [0. 0. 1. 0. 0. 0. 0. 0. 0. 0. 0. 0. 0. 0. 0. 0. 0. 0. 0.]\n",
      " [0. 0. 1. 0. 0. 0. 0. 0. 0. 0. 0. 0. 0. 0. 0. 0. 0. 0. 0.]\n",
      " [0. 0. 0. 1. 0. 0. 0. 0. 0. 0. 0. 0. 0. 0. 0. 0. 0. 0. 0.]\n",
      " [0. 0. 0. 1. 0. 0. 0. 0. 0. 0. 0. 0. 0. 0. 0. 0. 0. 0. 0.]]\n",
      "\n",
      "\n",
      "\n",
      "Youtube:\n",
      "Noms des sites:\n",
      "['www.youtube.com' 'www.youtube.com/about' 'www.youtube.com/about/press'\n",
      " 'www.youtube.com/about/copyright' 'www.youtube.com/t/contact_us'\n",
      " 'www.youtube.com/creators' 'www.youtube.com/ads'\n",
      " 'www.youtube.com/t/terms' 'www.youtube.com/t/privacy'\n",
      " 'www.youtube.com/about/policies'\n",
      " 'www.youtube.com/howyoutubeworks?utm_campaign=ytgen&amp;utm_source=ythp&amp;utm_medium=LeftNav&amp;utm_content=txt&amp;u=https%3A%2F%2Fwww.youtube.com%2Fhowyoutubeworks%3Futm_source%3Dythp%26utm_medium%3DLeftNav%26utm_campaign%3Dytgen'\n",
      " 'www.youtube.com/new'\n",
      " 'www.youtube.com/s/desktop/9fd1b038/cssbin/www-main-desktop-watch-page-skeleton.css'\n",
      " 'www.youtube.com/howyoutubeworks' 'www.youtube.com/trends'\n",
      " 'www.youtube.com/jobs' 'www.youtube.com/kids'\n",
      " 'www.youtube.com/musicpremium'\n",
      " 'www.youtube.com/channel/UCqVDpXKLmKeBU_yyt_QkItQ']\n",
      "\n",
      "Matrice d'adjacence:\n",
      "[[1. 1. 1. 0. 1. 0. 0. 1. 1. 0. 0. 1. 0. 0. 0. 0. 0. 1. 1.]\n",
      " [1. 1. 0. 0. 0. 0. 1. 0. 0. 0. 1. 1. 0. 1. 1. 1. 1. 1. 1.]\n",
      " [1. 0. 0. 0. 0. 0. 0. 0. 0. 0. 0. 1. 0. 0. 0. 0. 0. 1. 1.]\n",
      " [1. 1. 0. 0. 0. 0. 1. 0. 0. 0. 1. 1. 0. 1. 1. 1. 1. 1. 1.]\n",
      " [1. 0. 0. 0. 0. 0. 0. 0. 0. 0. 0. 1. 0. 0. 0. 0. 0. 1. 1.]\n",
      " [1. 1. 1. 0. 0. 1. 1. 0. 0. 0. 1. 1. 0. 1. 1. 1. 1. 1. 1.]\n",
      " [1. 1. 1. 0. 0. 0. 1. 0. 0. 0. 1. 1. 0. 1. 1. 1. 1. 1. 1.]\n",
      " [1. 1. 1. 0. 1. 0. 1. 1. 0. 0. 1. 1. 0. 1. 1. 1. 1. 1. 1.]\n",
      " [1. 0. 0. 0. 0. 0. 0. 1. 0. 0. 0. 1. 0. 0. 0. 0. 0. 1. 1.]\n",
      " [1. 1. 0. 0. 0. 0. 1. 0. 0. 0. 1. 1. 0. 1. 1. 1. 1. 1. 1.]\n",
      " [1. 0. 0. 0. 0. 0. 0. 0. 0. 0. 0. 1. 0. 0. 0. 0. 0. 1. 1.]\n",
      " [1. 0. 0. 0. 0. 0. 0. 0. 0. 0. 0. 1. 0. 0. 0. 0. 0. 1. 1.]\n",
      " [1. 0. 0. 0. 0. 0. 0. 0. 0. 0. 0. 1. 0. 0. 0. 0. 0. 1. 1.]\n",
      " [0. 1. 1. 1. 0. 0. 1. 0. 0. 1. 1. 0. 0. 1. 1. 1. 1. 0. 0.]\n",
      " [0. 1. 1. 0. 0. 0. 1. 0. 0. 0. 1. 0. 0. 1. 1. 1. 1. 0. 0.]\n",
      " [0. 1. 1. 0. 0. 0. 1. 0. 0. 0. 1. 0. 0. 1. 1. 1. 1. 0. 0.]\n",
      " [0. 1. 1. 0. 0. 0. 1. 0. 0. 0. 1. 0. 0. 1. 1. 1. 1. 0. 0.]\n",
      " [0. 1. 1. 0. 0. 0. 1. 0. 0. 0. 1. 0. 0. 1. 1. 1. 1. 0. 0.]\n",
      " [0. 1. 1. 0. 0. 0. 1. 0. 0. 0. 1. 0. 0. 1. 1. 1. 1. 0. 0.]]\n",
      "\n",
      "\n",
      "\n"
     ]
    }
   ],
   "source": [
    "facebook = [\n",
    "\";extern;www.facebook.com;www.facebook.com/recover/initiate?privacy_mutation_token=eyJ0eXBlIjowLCJjcmVhdGlvbl90aW1lIjoxNzQ4OTQyNTkyLCJjYWxsc2l0ZV9pZCI6MzgxMjI5MDc5NTc1OTQ2fQ%3D%3D&amp;ars=facebook_login&amp;next;www.facebook.com/r.php?entry_point=login;www.facebook.com/pages/create?ref_type=registration_form;www.facebook.com/reg;www.facebook.com/login;www.facebook.com/lite;www.facebook.com/watch;www.facebook.com/votinginformationcenter?entry_point=c2l0ZQ%3D%3D;www.facebook.com/privacy/policy?entry_point=facebook_page_footer;www.facebook.com/privacy/center?entry_point=facebook_page_footer;www.facebook.com/help/cancelcontracts?source=facebook.com;www.facebook.com/ad_campaign/landing.php?placement=pflo&amp;campaign_id=402047449186&amp;nav_source=unknown&amp;extra_1=auto;www.facebook.com/pages/create?ref_type=site_footer;www.facebook.com/careers?ref=pf;www.facebook.com/policies/cookies;www.facebook.com/help/568137493302217;www.facebook.com/policies?ref=pf;www.facebook.com/help?ref=pf\",\n",
    "\"extern;0;1;1;1;1;1;1;1;0;0;0;1;0;1;1;1;0;1;1;1\",\n",
    "\"www.facebook.com;0;0;0;0;1;0;0;0;0;0;0;0;0;0;1;1;0;0;0;0\",\n",
    "\"www.facebook.com/recover/initiate?privacy_mutation_token=eyJ0eXBlIjowLCJjcmVhdGlvbl90aW1lIjoxNzQ4OTQyNTkyLCJjYWxsc2l0ZV9pZCI6MzgxMjI5MDc5NTc1OTQ2fQ%3D%3D&amp;ars=facebook_login&amp;next;0;1;0;0;0;0;0;0;0;0;0;0;0;0;0;0;0;0;0;0\",\n",
    "\"www.facebook.com/r.php?entry_point=login;0;1;0;1;0;0;0;0;0;0;0;0;0;1;0;0;0;0;0;0\",\n",
    "\"www.facebook.com/pages/create?ref_type=registration_form;0;1;0;1;0;1;0;0;0;0;0;0;0;1;0;0;0;0;0;0\",\n",
    "\"www.facebook.com/reg;0;1;1;1;0;1;1;1;0;0;0;0;0;1;0;0;0;0;0;0\",\n",
    "\"www.facebook.com/login;0;1;1;1;0;1;1;1;0;0;0;0;0;1;0;0;0;0;0;0\",\n",
    "\"www.facebook.com/lite;0;1;1;1;0;1;1;1;0;0;0;0;0;1;0;0;0;0;0;0\",\n",
    "\"www.facebook.com/watch;0;1;1;1;0;1;1;1;0;0;0;0;0;1;0;0;0;0;0;0\",\n",
    "\"www.facebook.com/votinginformationcenter?entry_point=c2l0ZQ%3D%3D;0;1;1;1;0;1;1;1;0;0;0;0;0;1;0;0;0;0;0;0\",\n",
    "\"www.facebook.com/privacy/policy?entry_point=facebook_page_footer;0;1;1;1;0;1;1;1;0;0;0;0;0;1;0;0;0;0;0;0\",\n",
    "\"www.facebook.com/privacy/center?entry_point=facebook_page_footer;0;1;1;1;0;1;1;1;0;0;0;0;0;1;0;0;0;0;0;0\",\n",
    "\"www.facebook.com/help/cancelcontracts?source=facebook.com;0;1;1;1;0;1;1;1;0;0;0;0;0;1;0;0;0;0;0;0\",\n",
    "\"www.facebook.com/ad_campaign/landing.php?placement=pflo&amp;campaign_id=402047449186&amp;nav_source=unknown&amp;extra_1=auto;0;1;1;1;0;1;1;1;0;0;0;0;0;1;0;0;0;0;0;0\",\n",
    "\"www.facebook.com/pages/create?ref_type=site_footer;0;1;1;1;0;1;1;1;0;0;0;0;0;1;0;0;0;0;0;0\",\n",
    "\"www.facebook.com/careers?ref=pf;0;1;1;1;0;1;1;1;0;0;0;0;0;1;0;0;0;0;0;0\",\n",
    "\"www.facebook.com/policies/cookies;0;1;1;1;0;1;1;1;0;0;0;0;0;1;0;0;0;0;0;0\",\n",
    "\"www.facebook.com/help/568137493302217;0;1;1;1;0;1;1;1;0;0;0;0;0;1;0;0;0;0;0;0\",\n",
    "\"www.facebook.com/policies?ref=pf;0;1;1;1;0;1;1;1;0;0;0;0;0;1;0;0;0;0;0;0\",\n",
    "\"www.facebook.com/help?ref=pf;0;1;1;1;0;1;1;1;0;0;0;0;0;1;0;0;0;0;0;0\",\n",
    "]\n",
    "\n",
    "google = [\n",
    "\";extern;www.google.com;www.google.com/imghp?hl=fr&tab=wi;www.google.com/preferences?hl=fr;www.google.com/advanced_search?hl=fr&amp;authuser=0;www.google.com/intl/fr/ads;www.google.com/services;www.google.com/intl/fr/about.html;www.google.com/setprefdomain?prefdom=FR&amp;prev=http://www.google.fr/&amp;sig=68400f66K_dy68n0p_zK1vn_U77MUW0LlNCNs%3D;www.google.com/intl/fr/policies/privacy;www.google.com/intl/fr/policies/terms;www.google.com/advanced_image_search?hl=fr&amp;authuser=0;www.google.com/url?q=https://myactivity.google.com/product/search/controls%3Futm_source%3Dgoogle%26utm_medium%3Dpref-page%26hl%3Dfr%26authuser%3D0&amp;opi=89978449&amp;sa=U&amp;ved=0ahUKEwiW6J3p9dSNAxXhUUEAHYckAcoQ7JsICAE&amp;usg=AOvVaw0qPD4hvYtU4ZNhDJwuy0xz;www.google.com/url?q=/setting/search/privateresults%3Fhl%3Dfr%26authuser%3D0&amp;opi=89978449&amp;sa=U&amp;ved=0ahUKEwiW6J3p9dSNAxXhUUEAHYckAcoQ-vUJCAI&amp;usg=AOvVaw1cTT4viMvGOJvt0dOCOUSo;www.google.com/url?q=/safesearch%3Fhl%3Dfr%26prev%3Dhttps://www.google.com/preferences%3Fhl%253Dfr&amp;opi=89978449&amp;sa=U&amp;ved=0ahUKEwiW6J3p9dSNAxXhUUEAHYckAcoQ1fMKCAM&amp;usg=AOvVaw1rGpQyvS8O7Q7ZOqAAGvhk;www.google.com/url?q=https://support.google.com/websearch/%3Fp%3Dws_results_help%26hl%3Dfr%26fg%3D1&amp;opi=89978449&amp;sa=U&amp;ved=0ahUKEwiW6J3p9dSNAxXhUUEAHYckAcoQ8KwCCAg&amp;usg=AOvVaw0wH_fm4ay-T2WfYrZoPLoM;www.google.com/url?q=https://policies.google.com/privacy%3Fhl%3Dfr%26fg%3D1&amp;opi=89978449&amp;sa=U&amp;ved=0ahUKEwiW6J3p9dSNAxXhUUEAHYckAcoQ8awCCAk&amp;usg=AOvVaw198wZT9ghO51xTwBL4oib7;www.google.com/url?q=https://policies.google.com/terms%3Fhl%3Dfr%26fg%3D1&amp;opi=89978449&amp;sa=U&amp;ved=0ahUKEwiW6J3p9dSNAxXhUUEAHYckAcoQ8qwCCAo&amp;usg=AOvVaw1sleONn-T1GSGjZcnuNvlC;www.google.com/webhp?tab=ww;www.google.com/url?q=https://support.google.com/websearch/%3Fp%3Dws_results_help%26hl%3Dfr%26fg%3D1&amp;opi=89978449&amp;sa=U&amp;ved=0ahUKEwj7zarp9dSNAxVcU0EAHeg9AtAQ8KwCCAI&amp;usg=AOvVaw0nglcnnm1agd-2bw5alLNm\",\n",
    "\"extern;1;1;1;1;1;1;1;1;0;0;0;1;0;1;0;0;0;0;1;0\",\n",
    "\"www.google.com;1;0;0;0;0;0;0;0;0;0;0;0;0;0;0;0;0;0;0;0\",\n",
    "\"www.google.com/imghp?hl=fr&tab=wi;1;1;0;0;0;0;0;0;0;0;0;0;0;0;0;0;0;0;1;0\",\n",
    "\"www.google.com/preferences?hl=fr;1;1;1;0;1;0;0;0;0;0;0;1;0;0;0;0;0;0;1;0\",\n",
    "\"www.google.com/advanced_search?hl=fr&amp;authuser=0;1;1;0;0;0;0;0;0;0;0;0;0;0;0;0;0;0;0;1;0\",\n",
    "\"www.google.com/intl/fr/ads;1;1;1;0;0;0;0;0;0;0;0;0;0;0;0;0;0;0;1;0\",\n",
    "\"www.google.com/services;1;1;1;0;0;0;0;0;0;0;0;0;0;0;0;0;0;0;1;0\",\n",
    "\"www.google.com/intl/fr/about.html;1;1;1;0;0;0;0;0;0;0;0;0;0;0;0;0;0;0;1;0\",\n",
    "\"www.google.com/setprefdomain?prefdom=FR&amp;prev=http://www.google.fr/&amp;sig=68400f66K_dy68n0p_zK1vn_U77MUW0LlNCNs%3D;0;1;0;0;0;0;0;0;0;0;0;0;0;0;0;0;0;0;0;0\",\n",
    "\"www.google.com/intl/fr/policies/privacy;1;1;1;0;0;0;0;0;0;0;0;0;0;0;0;0;0;0;1;0\",\n",
    "\"www.google.com/intl/fr/policies/terms;1;1;1;0;0;0;0;0;0;0;0;0;0;0;0;0;0;0;1;0\",\n",
    "\"www.google.com/advanced_image_search?hl=fr&amp;authuser=0;0;0;1;0;0;0;0;0;0;0;0;0;0;0;0;0;0;0;0;0\",\n",
    "\"www.google.com/url?q=https://myactivity.google.com/product/search/controls%3Futm_source%3Dgoogle%26utm_medium%3Dpref-page%26hl%3Dfr%26authuser%3D0&amp;opi=89978449&amp;sa=U&amp;ved=0ahUKEwiW6J3p9dSNAxXhUUEAHYckAcoQ7JsICAE&amp;usg=AOvVaw0qPD4hvYtU4ZNhDJwuy0xz;0;0;0;1;0;0;0;0;0;0;0;0;0;0;0;0;0;0;0;0\",\n",
    "\"www.google.com/url?q=/setting/search/privateresults%3Fhl%3Dfr%26authuser%3D0&amp;opi=89978449&amp;sa=U&amp;ved=0ahUKEwiW6J3p9dSNAxXhUUEAHYckAcoQ-vUJCAI&amp;usg=AOvVaw1cTT4viMvGOJvt0dOCOUSo;0;0;0;1;0;0;0;0;0;0;0;0;0;0;0;0;0;0;0;0\",\n",
    "\"www.google.com/url?q=/safesearch%3Fhl%3Dfr%26prev%3Dhttps://www.google.com/preferences%3Fhl%253Dfr&amp;opi=89978449&amp;sa=U&amp;ved=0ahUKEwiW6J3p9dSNAxXhUUEAHYckAcoQ1fMKCAM&amp;usg=AOvVaw1rGpQyvS8O7Q7ZOqAAGvhk;0;0;0;1;0;0;0;0;0;0;0;0;0;0;0;0;0;0;0;0\",\n",
    "\"www.google.com/url?q=https://support.google.com/websearch/%3Fp%3Dws_results_help%26hl%3Dfr%26fg%3D1&amp;opi=89978449&amp;sa=U&amp;ved=0ahUKEwiW6J3p9dSNAxXhUUEAHYckAcoQ8KwCCAg&amp;usg=AOvVaw0wH_fm4ay-T2WfYrZoPLoM;0;0;0;1;0;0;0;0;0;0;0;0;0;0;0;0;0;0;0;0\",\n",
    "\"www.google.com/url?q=https://policies.google.com/privacy%3Fhl%3Dfr%26fg%3D1&amp;opi=89978449&amp;sa=U&amp;ved=0ahUKEwiW6J3p9dSNAxXhUUEAHYckAcoQ8awCCAk&amp;usg=AOvVaw198wZT9ghO51xTwBL4oib7;0;0;0;1;0;0;0;0;0;0;0;0;0;0;0;0;0;0;0;0\",\n",
    "\"www.google.com/url?q=https://policies.google.com/terms%3Fhl%3Dfr%26fg%3D1&amp;opi=89978449&amp;sa=U&amp;ved=0ahUKEwiW6J3p9dSNAxXhUUEAHYckAcoQ8qwCCAo&amp;usg=AOvVaw1sleONn-T1GSGjZcnuNvlC;0;0;0;1;0;0;0;0;0;0;0;0;0;0;0;0;0;0;0;0\",\n",
    "\"www.google.com/webhp?tab=ww;0;0;0;0;1;0;0;0;0;0;0;0;0;0;0;0;0;0;0;0\",\n",
    "\"www.google.com/url?q=https://support.google.com/websearch/%3Fp%3Dws_results_help%26hl%3Dfr%26fg%3D1&amp;opi=89978449&amp;sa=U&amp;ved=0ahUKEwj7zarp9dSNAxVcU0EAHeg9AtAQ8KwCCAI&amp;usg=AOvVaw0nglcnnm1agd-2bw5alLNm;0;0;0;0;1;0;0;0;0;0;0;0;0;0;0;0;0;0;0;0\",\n",
    "]\n",
    "\n",
    "youtube = [\n",
    "\";extern;www.youtube.com;www.youtube.com/about;www.youtube.com/about/press;www.youtube.com/about/copyright;www.youtube.com/t/contact_us;www.youtube.com/creators;www.youtube.com/ads;www.youtube.com/t/terms;www.youtube.com/t/privacy;www.youtube.com/about/policies;www.youtube.com/howyoutubeworks?utm_campaign=ytgen&amp;utm_source=ythp&amp;utm_medium=LeftNav&amp;utm_content=txt&amp;u=https%3A%2F%2Fwww.youtube.com%2Fhowyoutubeworks%3Futm_source%3Dythp%26utm_medium%3DLeftNav%26utm_campaign%3Dytgen;www.youtube.com/new;www.youtube.com/s/desktop/9fd1b038/cssbin/www-main-desktop-watch-page-skeleton.css;www.youtube.com/howyoutubeworks;www.youtube.com/trends;www.youtube.com/jobs;www.youtube.com/kids;www.youtube.com/musicpremium;www.youtube.com/channel/UCqVDpXKLmKeBU_yyt_QkItQ\",\n",
    "\"extern;0;1;1;1;1;1;1;1;1;1;1;1;1;0;1;1;1;1;1;1\",\n",
    "\"www.youtube.com;0;1;1;1;0;1;0;0;1;1;0;0;1;0;0;0;0;0;1;1\",\n",
    "\"www.youtube.com/about;0;1;1;0;0;0;0;1;0;0;0;1;1;0;1;1;1;1;1;1\",\n",
    "\"www.youtube.com/about/press;0;1;0;0;0;0;0;0;0;0;0;0;1;0;0;0;0;0;1;1\",\n",
    "\"www.youtube.com/about/copyright;0;1;1;0;0;0;0;1;0;0;0;1;1;0;1;1;1;1;1;1\",\n",
    "\"www.youtube.com/t/contact_us;0;1;0;0;0;0;0;0;0;0;0;0;1;0;0;0;0;0;1;1\",\n",
    "\"www.youtube.com/creators;0;1;1;1;0;0;1;1;0;0;0;1;1;0;1;1;1;1;1;1\",\n",
    "\"www.youtube.com/ads;0;1;1;1;0;0;0;1;0;0;0;1;1;0;1;1;1;1;1;1\",\n",
    "\"www.youtube.com/t/terms;0;1;1;1;0;1;0;1;1;0;0;1;1;0;1;1;1;1;1;1\",\n",
    "\"www.youtube.com/t/privacy;0;1;0;0;0;0;0;0;1;0;0;0;1;0;0;0;0;0;1;1\",\n",
    "\"www.youtube.com/about/policies;0;1;1;0;0;0;0;1;0;0;0;1;1;0;1;1;1;1;1;1\",\n",
    "\"www.youtube.com/howyoutubeworks?utm_campaign=ytgen&amp;utm_source=ythp&amp;utm_medium=LeftNav&amp;utm_content=txt&amp;u=https%3A%2F%2Fwww.youtube.com%2Fhowyoutubeworks%3Futm_source%3Dythp%26utm_medium%3DLeftNav%26utm_campaign%3Dytgen;0;1;0;0;0;0;0;0;0;0;0;0;1;0;0;0;0;0;1;1\",\n",
    "\"www.youtube.com/new;0;1;0;0;0;0;0;0;0;0;0;0;1;0;0;0;0;0;1;1\",\n",
    "\"www.youtube.com/s/desktop/9fd1b038/cssbin/www-main-desktop-watch-page-skeleton.css;0;1;0;0;0;0;0;0;0;0;0;0;1;0;0;0;0;0;1;1\",\n",
    "\"www.youtube.com/howyoutubeworks;0;0;1;1;1;0;0;1;0;0;1;1;0;0;1;1;1;1;0;0\",\n",
    "\"www.youtube.com/trends;0;0;1;1;0;0;0;1;0;0;0;1;0;0;1;1;1;1;0;0\",\n",
    "\"www.youtube.com/jobs;0;0;1;1;0;0;0;1;0;0;0;1;0;0;1;1;1;1;0;0\",\n",
    "\"www.youtube.com/kids;0;0;1;1;0;0;0;1;0;0;0;1;0;0;1;1;1;1;0;0\",\n",
    "\"www.youtube.com/musicpremium;0;0;1;1;0;0;0;1;0;0;0;1;0;0;1;1;1;1;0;0\",\n",
    "\"www.youtube.com/channel/UCqVDpXKLmKeBU_yyt_QkItQ;0;0;1;1;0;0;0;1;0;0;0;1;0;0;1;1;1;1;0;0\",\n",
    "]\n",
    "\n",
    "import networkx as nx\n",
    "\n",
    "def readMatrix(resultatLogiciel, N):  # N est le nombre de sites\n",
    "    matrice = np.empty((N-1, N-1))  # initialisation de la matrice d'adjacence\n",
    "    siteNames = np.empty(N-1, dtype=object)  # initialisation de la liste des noms de sites\n",
    "    \n",
    "    for index, line in enumerate(resultatLogiciel):  # pour toutes les lignes du résultat\n",
    "        if index == 0 or index == 1:  # on ignore les deux premières lignes (les noms des sites et extern)\n",
    "            continue\n",
    "        lineData = line.split(';')[-N+1: -1]   # on ajoute les adjacences du site, en ignorant extern, mais on n'a pas le dernier element,\n",
    "        lineData.append(line.split(';')[-1])  # donc on l'ajoute après\n",
    "        lineName = \";\".join(line.split(';')[0: -N])    # on prend tous les éléments avant les adjacences comme nom\n",
    "        siteNames[index-2] = lineName  # on ajoute le nom dans la liste des noms\n",
    "        matrice[index-2] = np.array(lineData)  # on rajoute la ligne des adjacences dans la matrice\n",
    "    print(f\"Noms des sites:\\n{siteNames}\")\n",
    "    print(f\"\\nMatrice d'adjacence:\\n{matrice}\\n\\n\\n\")\n",
    "    #graph = nx.from_numpy_array(matrice)      # on transforme la matrice d'adjacence numpy en réseau networkx pour pouvoir l'afficher\n",
    "    #pos = nx.spring_layout(graph, seed=3113794652)  # positions for all nodes\n",
    "    #plt.figure(figsize=(10, 8))               # on initie l'affichage\n",
    "    #nx.draw(graph, with_labels=True, node_color='lightblue', edge_color='gray', node_size=500, font_size=10)  # on créé le graphique du réseau\n",
    "    #plt.show()  # on affiche le graphique\n",
    "    return matrice\n",
    "\n",
    "print(\"Facebook:\")\n",
    "matrice1 = readMatrix(facebook, 20)\n",
    "print(\"Google:\")\n",
    "matrice2 = readMatrix(google, 20)\n",
    "print(\"Youtube:\")\n",
    "matrice3 = readMatrix(youtube, 20)\n",
    "\n"
   ]
  },
  {
   "cell_type": "markdown",
   "id": "5263fd78-1c7d-44cb-981f-dcdae43d2c3c",
   "metadata": {},
   "source": [
    "*2. Sur la page Ametice vous trouverez les matrices du réseau routier (issues de OpenStreet Map) de différentes villes. Chaque groupe étudiera la matrice “413 Avenue Gaston Berger” ainsi que la ville qui lui a été affectée (voir sur la page Ametice).* \n",
    "\n",
    "Nous avons eu la ville de Nantes."
   ]
  },
  {
   "cell_type": "code",
   "execution_count": 12,
   "id": "0044ba9b-b788-490d-9135-9ea65880c7b1",
   "metadata": {},
   "outputs": [],
   "source": [
    "gaston_matrix = np.load('gaston_berger_data/413 avenue Gaston Berger, Aix en Provence, France_Matrice.npy')\n",
    "gaston_noms = np.load('gaston_berger_data/413 avenue Gaston Berger, Aix en Provence, France_Id_Noeud.npy')\n",
    "nantes_matrix = np.load('nantes_data/Nantes, France_Matrice.npy')\n",
    "nantes_noms = np.load('nantes_data/Nantes, France_Id_Noeud.npy')\n",
    "\n",
    "gastonVecteur, gastonValeur, gastonIterations = puissance_iteree(calculP(gaston_matrix, gaston_matrix[0].size, 0.85), 10**(-6))\n",
    "nantesVecteur, nantesValeur, nantesIterations = puissance_iteree(calculP(nantes_matrix, nantes_matrix[0].size, 0.85), 10**(-6))"
   ]
  },
  {
   "cell_type": "code",
   "execution_count": 13,
   "id": "950f7673-0e82-4340-8d26-c1a067f6fea9",
   "metadata": {},
   "outputs": [
    {
     "name": "stdout",
     "output_type": "stream",
     "text": [
      "Gaston Berger, ID de l'intersection la plus importante:  267871464\n",
      "Gaston Berger, ID de l'intersection la moins importante: 33651052\n"
     ]
    }
   ],
   "source": [
    "print(f\"Gaston Berger, ID de l'intersection la plus importante:  {gaston_noms[gastonVecteur.argmax()]}\")\n",
    "print(f\"Gaston Berger, ID de l'intersection la moins importante: {gaston_noms[gastonVecteur.argmin()]}\")"
   ]
  },
  {
   "cell_type": "markdown",
   "id": "de9644b9-67be-4dbb-9877-141fb986772f",
   "metadata": {},
   "source": [
    "D'après ces résultats, après obtention du noms des intersections par `https://www.openstreetmap.org/node/[id_du_noeud]`, on trouve que:\n",
    "* L'intersection la plus importante à Gaston Berger est celle entre `Avenue Winston Churchill (27296118)` et `Avenue Robert Schuman (551201754)`.\n",
    "* L'intersection la moins importante à Gaston Berger est le point entre `Autoroute du Val de Durance (403886915)` et `N 296 (5079436)`."
   ]
  },
  {
   "cell_type": "code",
   "execution_count": 14,
   "id": "ff90131c-6878-41eb-896c-a134bed38a87",
   "metadata": {},
   "outputs": [
    {
     "name": "stdout",
     "output_type": "stream",
     "text": [
      "Nantes, ID de l'intersection la plus importante:  595710050\n",
      "Nantes, ID de l'intersection la moins importante: 216440781\n"
     ]
    }
   ],
   "source": [
    "print(f\"Nantes, ID de l'intersection la plus importante:  {nantes_noms[nantesVecteur.argmax()]}\")\n",
    "print(f\"Nantes, ID de l'intersection la moins importante: {nantes_noms[nantesVecteur.argmin()]}\")"
   ]
  },
  {
   "cell_type": "markdown",
   "id": "99994966-400d-4ea9-a027-10b8c2dd1a34",
   "metadata": {},
   "source": [
    "D'après ces résultats, après obtention du noms des intersections par `https://www.openstreetmap.org/node/[id_du_noeud]`, on trouve que:\n",
    "* L'intersection la plus importante à Nantes est celle entre  `Impasse Maryse Bastié (46614730)` et `Rue de la Saulzinière (108336783)`.\n",
    "* L'intersection la moins importante à Nantes est celle entre `Rue Surcouf (142343820)` et `Allée Commandant Charcot (46722258)`."
   ]
  },
  {
   "cell_type": "markdown",
   "id": "7ae70b3c-981d-4c1c-afde-f9f410f48ec8",
   "metadata": {},
   "source": [
    "Il faut noter que par \"importance\", on ne parle pas de *popularité* de l'intersection, mais uniquement leur importance en terme de connection avec les autres intersections."
   ]
  },
  {
   "cell_type": "markdown",
   "id": "ba717c27-751b-4702-ae1c-dd61df03ecb3",
   "metadata": {},
   "source": [
    "# Partie 5\n",
    "\n",
    "On sait que:\n",
    "\n",
    "$AX = λX <=> (A - λI_N)X = 0$\n",
    "\n",
    "Puisque $r = Pr$, on peut en déduire que $(I - P)r = 0$"
   ]
  },
  {
   "cell_type": "code",
   "execution_count": 50,
   "id": "f1b58427-4443-42dd-a4f7-b9d5ad0c25af",
   "metadata": {},
   "outputs": [],
   "source": [
    "def puissance_directe(M):\n",
    "    \"\"\"\n",
    "    Compute the dominant eigenvector directly using eigenvalue decomposition.\n",
    "    This is equivalent to the power iteration method but in a single calculation.\n",
    "    \"\"\"\n",
    "    # Compute all eigenvalues and eigenvectors\n",
    "    valeursPropres, vecteursPropres = np.linalg.eig(M)\n",
    "    \n",
    "    # Find the index of the largest eigenvalue (in absolute value)\n",
    "    indexMaxValeurPropre = np.argmax(np.abs(valeursPropres))\n",
    "    \n",
    "    # Extract the dominant eigenvalue and eigenvector\n",
    "    valeurPropreDominante = valeursPropres[indexMaxValeurPropre]\n",
    "    vecteurPropreDominante = vecteursPropres[:, indexMaxValeurPropre]\n",
    "    \n",
    "    # Normalize the eigenvector (same as your iteration does)\n",
    "    vecteurPropreDominante = vecteurPropreDominante / np.linalg.norm(vecteurPropreDominante)\n",
    "    \n",
    "    # Ensure real values (eigenvectors can be complex even for real matrices)\n",
    "    if np.isreal(valeurPropreDominante) and np.allclose(vecteurPropreDominante.imag, 0):\n",
    "        vecteurPropreDominante = vecteurPropreDominante.real\n",
    "        valeurPropreDominante = valeurPropreDominante.real\n",
    "    \n",
    "    return np.abs(vecteurPropreDominante), abs(valeurPropreDominante)\n",
    "\n",
    "def pagerank_directe(M, alpha=0.85):\n",
    "    N = M.shape[0]\n",
    "    Q = calculQ(M)\n",
    "\n",
    "    # Matrice P : combinaison de Q et de la matrice uniforme\n",
    "    P = alpha * Q + (1 - alpha) * np.ones((N, N)) / N\n",
    "\n",
    "    # On veut résoudre : (P - I) r = 0 avec la contrainte sum(r) = 1\n",
    "    # Équivalent : on remplace une équation par sum(r) = 1\n",
    "    A = P.T - np.eye(N)\n",
    "    A[-1] = np.ones(N)\n",
    "\n",
    "    b = np.zeros(N)\n",
    "    b[-1] = 1\n",
    "\n",
    "    r = np.linalg.solve(A, b)\n",
    "    return r"
   ]
  },
  {
   "cell_type": "code",
   "execution_count": 51,
   "id": "4e77056e-e47d-43a9-b8c2-499520e49ffe",
   "metadata": {},
   "outputs": [
    {
     "name": "stdout",
     "output_type": "stream",
     "text": [
      "[0.16247366 0.09962937 0.18521457 0.17403367 0.122181   0.15550335\n",
      " 0.07973233 0.1037933  0.09837922 0.31170251 0.09986322 0.19337443\n",
      " 0.26084251 0.2401576  0.37755632 0.24509121 0.04395811 0.147925\n",
      " 0.16455727 0.55625077]\n",
      "[0.0539385  0.05353891 0.05344151 0.05340159 0.05548472 0.05296774\n",
      " 0.05323343 0.05375428 0.05286454 0.04749863 0.04641596 0.05062215\n",
      " 0.04573048 0.05274777 0.05326056 0.04988852 0.05227183 0.05247217\n",
      " 0.0075     0.05896672]\n",
      "[0.16247369 0.0996293  0.18521451 0.17403362 0.12218099 0.15550331\n",
      " 0.07973232 0.10379329 0.09837917 0.3117025  0.09986316 0.19337439\n",
      " 0.2608424  0.24015758 0.37755635 0.24509133 0.04395806 0.14792503\n",
      " 0.16455725 0.55625086]\n"
     ]
    }
   ],
   "source": [
    "print(puissance_directe(matriceCPartie3)[0])\n",
    "print(pagerank_directe(matriceCPartie3))\n",
    "print(puissance_iteree(matriceCPartie3, 10**(-6))[0])"
   ]
  },
  {
   "cell_type": "code",
   "execution_count": null,
   "id": "5b8f9b0f-cf4b-4f6d-ab5d-caec057a5eea",
   "metadata": {},
   "outputs": [],
   "source": []
  }
 ],
 "metadata": {
  "kernelspec": {
   "display_name": "Python 3 (ipykernel)",
   "language": "python",
   "name": "python3"
  },
  "language_info": {
   "codemirror_mode": {
    "name": "ipython",
    "version": 3
   },
   "file_extension": ".py",
   "mimetype": "text/x-python",
   "name": "python",
   "nbconvert_exporter": "python",
   "pygments_lexer": "ipython3",
   "version": "3.11.0"
  }
 },
 "nbformat": 4,
 "nbformat_minor": 5
}
