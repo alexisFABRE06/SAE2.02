{
 "cells": [
  {
   "cell_type": "markdown",
   "id": "31ae674b-d7ad-4b9d-8a31-86e1242d44a6",
   "metadata": {},
   "source": [
    "# Partie 1\n",
    "## Questions\n",
    "*1. Justifier pourquoi l’algorithme de la puissance itérée (vu en détails dans le TD de R2.09\n",
    "dédiée à la SAE) permet de calculer le score de chacune des pages.*\n",
    "\n",
    "L'algorithme de la puissance itérée permet de calculer le score de chacune des pages car cette fonction permet de calculer un vecteur propre de la matrice, et ce vecteur propre est utilisé afin de trouver le score de chaque page.\n",
    "\n",
    "*2. Implémenter cet algorithme pour calculer le score de chacune des pages du graphe\n",
    "précédent. On vérifiera (numériquement) que le vecteur de score obtenu est bien ap-\n",
    "proximativement solution de r = Qr.*\n",
    "\n",
    "Voici une implémentation Python de la fonction de puissance itérée:\n",
    "La fonction prend en entrée une Matrice `M` et un seuil d'approximation `e` et retourne un vecteur propre `newX` pour cette matrice, une valeur propre `np.linalg.norm(np.dot(M, X))` et le nombre d'itérations effectués `n`."
   ]
  },
  {
   "cell_type": "code",
   "execution_count": 1,
   "id": "9453dd49-29b9-42fe-a593-d6bf57e56481",
   "metadata": {},
   "outputs": [],
   "source": [
    "import numpy as np\n",
    "\n",
    "def puissance_iteree(M, e):\n",
    "    X = np.array([np.random.randint(1, 10) for _ in range(len(M))])\n",
    "    newX = X\n",
    "    n = 1\n",
    "    while 1:\n",
    "        newX = (np.dot(M, X)) / np.linalg.norm(np.dot(M, X))\n",
    "        if np.linalg.norm(newX - X) <= e: break\n",
    "        X = newX\n",
    "        n += 1\n",
    "    return newX, np.linalg.norm(np.dot(M, X)), n\n",
    "\n",
    "def calculQ(M):\n",
    "    N = np.sum(M, axis=0)\n",
    "    q = np.empty((M[0].size, M[0].size))\n",
    "    for i in range(M[0].size):\n",
    "        for j in range(M[0].size):\n",
    "            if N[j] == 0:\n",
    "                q[i][j] = 0\n",
    "            else:\n",
    "                q[i][j] = M[i][j] / N[j]\n",
    "    return q\n",
    "    \n",
    "            "
   ]
  },
  {
   "cell_type": "code",
   "execution_count": 2,
   "id": "58c1e619-44f4-4f61-8214-4719ccc8668a",
   "metadata": {},
   "outputs": [
    {
     "name": "stdout",
     "output_type": "stream",
     "text": [
      "Score Page 1: 0.3934718895126158\n",
      "Score Page 2: 0.14987443193936104\n",
      "Score Page 3: 0.20696198412437936\n",
      "Score Page 4: 0.22870677963371375\n",
      "Score Page 5: 0.2940769810828727\n",
      "Score Page 6: 0.40267256064222784\n",
      "Score Page 7: 0.1533788253946222\n",
      "Score Page 8: 0.27022345986345\n",
      "Score Page 9: 0.1533788253946222\n",
      "Score Page 10: 0.3934596436745842\n",
      "Score Page 11: 0.14986944440954636\n",
      "Score Page 12: 0.2069549652551343\n",
      "Score Page 13: 0.22869893343309727\n",
      "Score Page 14: 0.2940667665842714\n"
     ]
    }
   ],
   "source": [
    "N = 14\n",
    "\n",
    "# i = horizontal # j = vertical\n",
    "\n",
    "matriceCPartie1 = np.array([\n",
    "    #1, 2, 3, 4, 5, 6, 7, 8, 9, 10,11,12,13,14\n",
    "    [0, 1, 1, 1, 1, 0, 1, 0, 0, 0, 0, 0, 0, 0], # 1\n",
    "    [1, 0, 0, 0, 0, 0, 0, 0, 0, 0, 0, 0, 0, 0], # 2\n",
    "    [1, 1, 0, 0, 0, 0, 0, 0, 0, 0, 0, 0, 0, 0], # 3\n",
    "    [1, 0, 1, 0, 0, 0, 0, 0, 0, 0, 0, 0, 0, 0], # 4\n",
    "    [1, 1, 0, 1, 0, 0, 0, 0, 0, 0, 0, 0, 0, 0], # 5\n",
    "    [1, 0, 0, 0, 0, 0, 0, 1, 0, 1, 0, 0, 0, 0], # 6\n",
    "    [0, 0, 0, 0, 0, 1, 0, 0, 0, 0, 0, 0, 0, 0], # 7\n",
    "    [0, 0, 0, 0, 0, 1, 1, 0, 1, 0, 0, 0, 0, 0], # 8\n",
    "    [0, 0, 0, 0, 0, 1, 0, 0, 0, 0, 0, 0, 0, 0], # 9\n",
    "    [0, 0, 0, 0, 0, 0, 0, 0, 1, 0, 1, 1, 1, 1], # 10\n",
    "    [0, 0, 0, 0, 0, 0, 0, 0, 0, 1, 0, 0, 0, 0], # 11\n",
    "    [0, 0, 0, 0, 0, 0, 0, 0, 0, 1, 1, 0, 0, 0], # 12\n",
    "    [0, 0, 0, 0, 0, 0, 0, 0, 0, 1, 0, 1, 0, 0], # 13\n",
    "    [0, 0, 0, 0, 0, 0, 0, 0, 0, 1, 1, 0, 1, 0], # 14\n",
    "    ])\n",
    "\n",
    "vecteurPropre, valeurPropre, iterations = puissance_iteree(matriceCPartie1, 10**(-6))\n",
    "\n",
    "for index, elem in enumerate(vecteurPropre):\n",
    "    print(f\"Score Page {index+1}: {elem}\")"
   ]
  },
  {
   "cell_type": "markdown",
   "id": "072e9c5a-151e-4485-87ea-8fb3aced264c",
   "metadata": {},
   "source": [
    "Afin de vérifier que le calcul est correct, on vérifie `r = Qr`\n",
    "Pour que cette formule sois vrai, il faut que Q soit 1.\n",
    "On calcul donc la valeur propre de Q:"
   ]
  },
  {
   "cell_type": "code",
   "execution_count": 3,
   "id": "fa160234-ae3b-43b0-b09c-2bae8ea18537",
   "metadata": {},
   "outputs": [
    {
     "name": "stdout",
     "output_type": "stream",
     "text": [
      "Valeur propre de Q pour matrice: 0.9999999999999991\n"
     ]
    }
   ],
   "source": [
    "print(f\"Valeur propre de Q pour matrice: {puissance_iteree(calculQ(matriceCPartie1), 10**(-8))[1]}\")"
   ]
  },
  {
   "cell_type": "markdown",
   "id": "dd573abe-4b38-4422-9de1-26a29b93c75d",
   "metadata": {},
   "source": [
    "On remarque que la valeur propre de Q est bien égal à 1, donc, `r = Qr`."
   ]
  },
  {
   "cell_type": "markdown",
   "id": "9fc0416d-75cc-4cef-935c-5c13ff0c9676",
   "metadata": {},
   "source": [
    "*3. Analyser la pertinence du résultat obtenu.*\n",
    "\n",
    "Le résultat signifie que la page qui sera tout en haut du moteur de recherche sera la page 6, puisqu'elle a le score le plus important. En revanche, les pages 2 et 11 seront les plus basses, puisqu'elles sont les moins importantes."
   ]
  },
  {
   "cell_type": "markdown",
   "id": "74abe39a-9449-4051-8f5e-826ce510712d",
   "metadata": {},
   "source": [
    "# Partie 2"
   ]
  },
  {
   "cell_type": "code",
   "execution_count": 4,
   "id": "28a87ec5-4861-4a24-ba51-08c2312a3444",
   "metadata": {},
   "outputs": [],
   "source": [
    "N = 5\n",
    "\n",
    "matriceCPartie2 = np.array([\n",
    "    [0, 1, 1, 1, 1],\n",
    "    [0, 0, 0, 1, 1],\n",
    "    [0, 0, 0, 0, 0],\n",
    "    [0, 0, 1, 0, 0],\n",
    "    [0, 0, 0, 0, 0],\n",
    "    ])\n",
    "\n",
    "#vecteurPropre, valeurPropre, iterations = puissance_iteree(matriceCPartie2, 10**(-6))\n",
    "    \n",
    "#for index, elem in enumerate(vecteurPropre):\n",
    "#    print(f\"Score Page {index+1}: {elem}\")"
   ]
  },
  {
   "cell_type": "markdown",
   "id": "40d51d1d-d5be-4536-a297-aebeef346c5a",
   "metadata": {},
   "source": [
    "On se rend compte que pour les pages ne se faisant *pointé par aucune autre page*, l'algorithme tente de *diviser par 0*. Pour régler cela, on instaure une **matrice de transition** avec un **facteur d'amortissement**."
   ]
  },
  {
   "cell_type": "code",
   "execution_count": 5,
   "id": "ee5f979c-47b8-4192-8b83-e23c21aed629",
   "metadata": {},
   "outputs": [
    {
     "name": "stdout",
     "output_type": "stream",
     "text": [
      "Score Page 1: 0.8258223776229926\n",
      "Score Page 2: 0.40102186310673504\n",
      "Score Page 3: 0.1974869969560661\n",
      "Score Page 4: 0.281418972342058\n",
      "Score Page 5: 0.1974869969560661\n"
     ]
    }
   ],
   "source": [
    "def calculP(M, N, a):\n",
    "    P = np.empty((N, N))\n",
    "    Nj = np.sum(M, axis=0)\n",
    "    Q = calculQ(M)\n",
    "    for i in range(N):\n",
    "        for j in range(N):\n",
    "            if Nj[j] == 0:\n",
    "                P[i][j] = 1/N\n",
    "            else:\n",
    "                P[i][j] = a * Q[i][j] + (1 - a) / N\n",
    "    return P\n",
    "\n",
    "vecteurPropre, valeurPropre, iterations = puissance_iteree(calculP(matriceCPartie2, N, 0.85), 10**(-6))\n",
    "\n",
    "for index, elem in enumerate(vecteurPropre):\n",
    "    print(f\"Score Page {index+1}: {elem}\")"
   ]
  },
  {
   "cell_type": "markdown",
   "id": "36216871-79d7-438f-ad16-c1a7433e17e9",
   "metadata": {},
   "source": [
    "On remarque que maintenant les scores sont bien calculé sans erreurs, et que la page 1, qu'on peut facilement déduire aura le plus haut score, puisque pointé par beaucoups de pages, a bien le plus haut score dans nos résultats. On vérifie maintenant que `r = Pr`, ou que `P` soit égal à 1."
   ]
  },
  {
   "cell_type": "code",
   "execution_count": 6,
   "id": "16bb5f8e-4241-4293-8bd5-e2402221e7ad",
   "metadata": {},
   "outputs": [
    {
     "name": "stdout",
     "output_type": "stream",
     "text": [
      "Valeur propre de P pour matrice: 0.9337866271775539\n"
     ]
    }
   ],
   "source": [
    "print(f\"Valeur propre de P pour matrice: {puissance_iteree(calculP(matriceCPartie1, N, 0.85), 10**(-8))[1]}\")"
   ]
  },
  {
   "cell_type": "markdown",
   "id": "6a85bbf5-a81b-490b-9766-d096dbfe5930",
   "metadata": {},
   "source": [
    "On remarque que P est approximativement égal à 1, donc `r = Pr`."
   ]
  },
  {
   "cell_type": "markdown",
   "id": "4107a115-616f-4816-b19a-27af2171878c",
   "metadata": {},
   "source": [
    "# Partie 3\n",
    "\n",
    "*1. Analyser l’influence du critère d’arrêt dans l’algorithme de la puissance itérée.*\n",
    "\n",
    "Plus le seuil de précision augmente, plus on devrait avoir un résultat précis et plus on devrait avoir d'itérations. On vérifie cela grâce à une représentation graphique avec différent seuils de précisions. On regardera non seulement le nombre d'itérations, mais aussi la précision du résultat. On fera donc cela avec Q, puisque l'on sait que Q devrait valoir 1."
   ]
  },
  {
   "cell_type": "code",
   "execution_count": 7,
   "id": "9ccbb1cf-ef21-4fd0-816d-b5f1439bd1be",
   "metadata": {},
   "outputs": [
    {
     "data": {
      "image/png": "[encoded data removed]",
      "text/plain": [
       "<Figure size 800x800 with 2 Axes>"
      ]
     },
     "metadata": {},
     "output_type": "display_data"
    }
   ],
   "source": [
    "import matplotlib.pyplot as plt\n",
    "\n",
    "fig, ax1 = plt.subplots(figsize=(8, 8))\n",
    "ax2 = ax1.twinx()\n",
    "\n",
    "l = []\n",
    "v = []\n",
    "Q = calculQ(matriceCPartie1)\n",
    "for x in range(1, 15):\n",
    "    e = 10**(-x)\n",
    "    puit = puissance_iteree(Q, e)\n",
    "    l.append(puit[2])\n",
    "    v.append(puit[1])\n",
    "ax1.semilogy(range(1, 15), l)\n",
    "plt.title(\"Nombre itérations / seuil de précision\")\n",
    "ax1.set_ylabel(\"Nombre d'itérations\")\n",
    "ax2.plot(range(1, 15), v, color=\"#00FF00\")\n",
    "ax2.set_ylabel(\"valeur propre (1)\")\n",
    "fig.legend([\"Nombre Itérations\", \"Valeur Propre\"])\n",
    "\n",
    "plt.show()"
   ]
  },
  {
   "cell_type": "markdown",
   "id": "6e12e9d6-2c1a-4bbc-a817-2ff321cc7c4d",
   "metadata": {},
   "source": [
    "Sur ce graphe, on remarque bien que le nombre d'itérations augmente, et que la valeur propre s'approche de 1, ce qui est le bon résultat. On remarque aussi que tout seuil de précision au delà de 10e-3 n'est pas nécessaire puisque dès 10e-3, la valeur propre vaut 1."
   ]
  },
  {
   "cell_type": "markdown",
   "id": "91109be2-d3cb-465f-9951-aa8374aa2764",
   "metadata": {},
   "source": [
    "*2. Ajouter quelques hubs (pages qui ont beaucoup de liens sortant) et autorités (pages qui ont beaucoup de liens entrant). Commenter l’impact sur les scores.*\n",
    "\n",
    "On a donc créé une nouvelle matrice à partir de la matrice de la *Partie 1*:\n",
    "* 15: Autorité\n",
    "* 16: Hub\n",
    "* 17: Hub (aucun lien entrant)\n",
    "* 18: Égal\n",
    "* 19: Autorité (aucun lien sortant\n",
    "* 20: Autorité\n",
    "Voici la nouvelle matrice:"
   ]
  },
  {
   "cell_type": "code",
   "execution_count": 8,
   "id": "a40e0b74-729e-4a0e-b80d-6ba2038a0291",
   "metadata": {},
   "outputs": [
    {
     "name": "stdout",
     "output_type": "stream",
     "text": [
      "Score Page 1: 0.17046796283795382\n",
      "Score Page 2: 0.0905767207217499\n",
      "Score Page 3: 0.16720082296969888\n",
      "Score Page 4: 0.16677329789837217\n",
      "Score Page 5: 0.10390865612004815\n",
      "Score Page 6: 0.1266078448514786\n",
      "Score Page 7: 0.06480913198611828\n",
      "Score Page 8: 0.0870750498624244\n",
      "Score Page 9: 0.08180083126222067\n",
      "Score Page 10: 0.4061104683333593\n",
      "Score Page 11: 0.07782039454315412\n",
      "Score Page 12: 0.15719670421453077\n",
      "Score Page 13: 0.3028441306496113\n",
      "Score Page 14: 0.20009959075701142\n",
      "Score Page 18: 0.13603535613763748\n",
      "Autorités:\n",
      "Score Page 15: 0.3752494621957086\n",
      "Score Page 19: 0.13017288617609882\n",
      "Score Page 20: 0.5553834192573011\n",
      "Hubs:\n",
      "Score Page 16: 0.21824628758236955\n",
      "Score Page 17: 0.04330102311896261\n"
     ]
    }
   ],
   "source": [
    "N = 20\n",
    "\n",
    "matriceCPartie3 = np.array([\n",
    "    #1, 2, 3, 4, 5, 6, 7, 8, 9, 10,11,12,13,14,15,16,17,18,19,20\n",
    "    [0, 1, 1, 1, 1, 0, 1, 0, 0, 0, 0, 0, 0, 0, 0, 1, 0, 0, 0, 0], # 1\n",
    "    [1, 0, 0, 0, 0, 0, 0, 0, 0, 0, 0, 0, 0, 0, 0, 1, 0, 1, 0, 0], # 2\n",
    "    [1, 1, 0, 0, 0, 0, 0, 0, 0, 0, 0, 0, 0, 0, 1, 1, 0, 1, 0, 0], # 3\n",
    "    [1, 0, 1, 0, 0, 0, 0, 0, 0, 0, 0, 0, 0, 0, 1, 1, 0, 0, 0, 0], # 4\n",
    "    [1, 1, 0, 1, 0, 0, 0, 0, 0, 0, 0, 0, 0, 0, 0, 1, 0, 0, 0, 0], # 5\n",
    "    [1, 0, 0, 0, 0, 0, 0, 1, 0, 1, 0, 0, 0, 0, 0, 1, 1, 0, 0, 0], # 6\n",
    "    [0, 0, 0, 0, 0, 1, 0, 0, 0, 0, 0, 0, 0, 0, 0, 1, 1, 0, 0, 0], # 7\n",
    "    [0, 0, 0, 0, 0, 1, 1, 0, 1, 0, 0, 0, 0, 0, 0, 1, 0, 0, 0, 0], # 8\n",
    "    [0, 0, 0, 0, 0, 1, 0, 0, 0, 0, 0, 0, 0, 0, 0, 1, 0, 1, 0, 0], # 9\n",
    "    [0, 0, 0, 0, 0, 0, 0, 0, 1, 0, 1, 1, 1, 1, 0, 1, 1, 0, 0, 1], # 10\n",
    "    [0, 0, 0, 0, 0, 0, 0, 0, 0, 1, 0, 0, 0, 0, 0, 1, 0, 0, 0, 0], # 11\n",
    "    [0, 0, 0, 0, 0, 0, 0, 0, 0, 1, 1, 0, 0, 0, 1, 1, 1, 0, 0, 0], # 12\n",
    "    [0, 0, 0, 0, 0, 0, 0, 0, 0, 1, 0, 1, 0, 0, 0, 1, 0, 1, 0, 1], # 13\n",
    "    [0, 0, 0, 0, 0, 0, 0, 0, 0, 1, 1, 0, 1, 0, 1, 1, 1, 0, 0, 0], # 14\n",
    "    [0, 1, 0, 1, 0, 1, 0, 1, 1, 1, 1, 0, 1, 0, 0, 1, 0, 0, 0, 1], # 15\n",
    "    [0, 1, 1, 1, 0, 1, 1, 0, 0, 1, 1, 0, 1, 0, 0, 0, 0, 0, 0, 0], # 16\n",
    "    [0, 0, 0, 0, 0, 0, 0, 0, 0, 0, 0, 0, 0, 0, 0, 1, 0, 0, 0, 0], # 17\n",
    "    [0, 0, 0, 1, 0, 1, 1, 1, 0, 1, 0, 0, 0, 0, 0, 0, 0, 0, 0, 0], # 18\n",
    "    [0, 0, 0, 0, 0, 0, 0, 0, 0, 1, 1, 0, 1, 0, 0, 1, 0, 0, 0, 0], # 19\n",
    "    [1, 1, 1, 1, 1, 1, 1, 1, 1, 1, 1, 1, 1, 1, 1, 1, 1, 1, 0, 0], # 20\n",
    "    ])\n",
    "\n",
    "vecteurPropre, valeurPropre, iterations = puissance_iteree(calculP(matriceCPartie3, N, 0.85), 10**(-6))\n",
    "\n",
    "for index, elem in enumerate(vecteurPropre):\n",
    "    if index == 14:\n",
    "        break\n",
    "    print(f\"Score Page {index+1}: {elem}\")\n",
    "print(f\"Score Page 18: {vecteurPropre[17]}\")\n",
    "\n",
    "print(\"Autorités:\")\n",
    "for index in [14, 18, 19]:\n",
    "    print(f\"Score Page {index+1}: {vecteurPropre[index]}\")\n",
    "\n",
    "print(\"Hubs:\")\n",
    "for index in [15, 16]:\n",
    "    print(f\"Score Page {index+1}: {vecteurPropre[index]}\")"
   ]
  },
  {
   "cell_type": "code",
   "execution_count": null,
   "id": "5b1d11b0-3fed-4972-b26f-732eb202c7e7",
   "metadata": {},
   "outputs": [],
   "source": []
  }
 ],
 "metadata": {
  "kernelspec": {
   "display_name": "Python 3 (ipykernel)",
   "language": "python",
   "name": "python3"
  },
  "language_info": {
   "codemirror_mode": {
    "name": "ipython",
    "version": 3
   },
   "file_extension": ".py",
   "mimetype": "text/x-python",
   "name": "python",
   "nbconvert_exporter": "python",
   "pygments_lexer": "ipython3",
   "version": "3.11.0"
  }
 },
 "nbformat": 4,
 "nbformat_minor": 5
}
